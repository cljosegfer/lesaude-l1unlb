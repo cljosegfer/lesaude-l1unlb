{
 "cells": [
  {
   "cell_type": "markdown",
   "metadata": {},
   "source": [
    "# setup"
   ]
  },
  {
   "cell_type": "code",
   "execution_count": 1,
   "metadata": {},
   "outputs": [],
   "source": [
    "import os\n",
    "\n",
    "if os.getcwd().split('/')[-1] == 'notebooks':\n",
    "    os.chdir('..')"
   ]
  },
  {
   "cell_type": "code",
   "execution_count": 2,
   "metadata": {},
   "outputs": [],
   "source": [
    "import h5py\n",
    "import pandas as pd\n",
    "import numpy as np\n",
    "import torch\n",
    "\n",
    "from tqdm import tqdm"
   ]
  },
  {
   "cell_type": "markdown",
   "metadata": {},
   "source": [
    "# init"
   ]
  },
  {
   "cell_type": "code",
   "execution_count": 3,
   "metadata": {},
   "outputs": [],
   "source": [
    "hdf5_path = '/home/josegfer/datasets/cpsc2018/cpsc2018.h5'\n",
    "metadata_path = '/home/josegfer/datasets/cpsc2018/metadata.csv'"
   ]
  },
  {
   "cell_type": "code",
   "execution_count": 4,
   "metadata": {},
   "outputs": [],
   "source": [
    "val_size = 0.10\n",
    "tst_size = 0.05"
   ]
  },
  {
   "cell_type": "code",
   "execution_count": 5,
   "metadata": {},
   "outputs": [],
   "source": [
    "exam_id_col = 'exam_id'"
   ]
  },
  {
   "cell_type": "markdown",
   "metadata": {},
   "source": [
    "# loader"
   ]
  },
  {
   "cell_type": "code",
   "execution_count": 6,
   "metadata": {},
   "outputs": [],
   "source": [
    "from torch.utils.data import Dataset"
   ]
  },
  {
   "cell_type": "code",
   "execution_count": 7,
   "metadata": {},
   "outputs": [],
   "source": [
    "class CPSC2018():\n",
    "    def __init__(self, hdf5_path = '/home/josegfer/datasets/cpsc2018/cpsc2018.h5', \n",
    "                 metadata_path = '/home/josegfer/datasets/cpsc2018/metadata.csv', \n",
    "                 val_size = 0.1, tst_size = 0.05):\n",
    "        self.hdf5_file = h5py.File(hdf5_path, \"r\")\n",
    "        self.metadata = pd.read_csv(metadata_path)\n",
    "\n",
    "        self.val_size = val_size\n",
    "        self.tst_size = tst_size\n",
    "\n",
    "        trn_metadata, val_metadata, tst_metadata = self.split()\n",
    "        self.check_dataleakage(trn_metadata, val_metadata, tst_metadata)\n",
    "        \n",
    "        self.trn_idx_dict = self.get_idx_dict(trn_metadata)\n",
    "        self.val_idx_dict = self.get_idx_dict(val_metadata)\n",
    "        self.tst_idx_dict = self.get_idx_dict(tst_metadata)\n",
    "\n",
    "    def split(self, patient_id_col = 'exam_id'): # im assuming all pacient are unique for this dataset!\n",
    "        patient_ids = self.metadata[patient_id_col].unique()\n",
    "\n",
    "        num_trn = int(len(patient_ids) * (1 - self.tst_size - self.val_size))\n",
    "        num_val = int(len(patient_ids) * self.val_size)\n",
    "\n",
    "        trn_ids = set(patient_ids[:num_trn])\n",
    "        val_ids = set(patient_ids[num_trn : num_trn + num_val])\n",
    "        tst_ids = set(patient_ids[num_trn + num_val :])\n",
    "\n",
    "        trn_metadata = self.metadata.loc[self.metadata[patient_id_col].isin(trn_ids)]\n",
    "        val_metadata = self.metadata.loc[self.metadata[patient_id_col].isin(val_ids)]\n",
    "        tst_metadata = self.metadata.loc[self.metadata[patient_id_col].isin(tst_ids)]\n",
    "\n",
    "        return trn_metadata, val_metadata, tst_metadata\n",
    "    \n",
    "    def check_dataleakage(self, trn_metadata, val_metadata, tst_metadata, exam_id_col = 'exam_id'):\n",
    "        trn_ids = set(trn_metadata[exam_id_col].unique())\n",
    "        val_ids = set(val_metadata[exam_id_col].unique())\n",
    "        tst_ids = set(tst_metadata[exam_id_col].unique())\n",
    "        assert (len(trn_ids.intersection(val_ids)) == 0), \"Some IDs are present in both train and validation sets.\"\n",
    "        assert (len(trn_ids.intersection(tst_ids)) == 0), \"Some IDs are present in both train and test sets.\"\n",
    "        assert (len(val_ids.intersection(tst_ids)) == 0), \"Some IDs are present in both validation and test sets.\"\n",
    "\n",
    "    def get_idx_dict(self, split_metadata, exam_id_col = 'exam_id'):\n",
    "        split_exams, split_h5_idx, temp = np.intersect1d(self.hdf5_file[exam_id_col], split_metadata[exam_id_col].values, return_indices = True)\n",
    "        split_csv_idx = split_metadata.iloc[temp].index.values\n",
    "        split_idx_dict = {exam_id_col: split_exams, 'h5_idx': split_h5_idx, 'csv_idx': split_csv_idx}\n",
    "\n",
    "        print('checking exam_id consistency in idx dict')\n",
    "        for idx, exam_id in tqdm(enumerate(split_idx_dict[exam_id_col])):\n",
    "            assert self.hdf5_file[exam_id_col][split_idx_dict['h5_idx'][idx]] == exam_id\n",
    "            assert self.metadata[exam_id_col][split_idx_dict['csv_idx'][idx]] == exam_id\n",
    "        return split_idx_dict\n"
   ]
  },
  {
   "cell_type": "code",
   "execution_count": 8,
   "metadata": {},
   "outputs": [
    {
     "name": "stderr",
     "output_type": "stream",
     "text": [
      "561it [00:00, 5606.46it/s]"
     ]
    },
    {
     "name": "stdout",
     "output_type": "stream",
     "text": [
      "checking exam_id consistency in idx dict\n"
     ]
    },
    {
     "name": "stderr",
     "output_type": "stream",
     "text": [
      "5845it [00:00, 8097.38it/s]\n",
      "687it [00:00, 8572.87it/s]\n",
      "345it [00:00, 8554.64it/s]"
     ]
    },
    {
     "name": "stdout",
     "output_type": "stream",
     "text": [
      "checking exam_id consistency in idx dict\n",
      "checking exam_id consistency in idx dict\n"
     ]
    },
    {
     "name": "stderr",
     "output_type": "stream",
     "text": [
      "\n"
     ]
    }
   ],
   "source": [
    "data = CPSC2018()"
   ]
  },
  {
   "cell_type": "code",
   "execution_count": 9,
   "metadata": {},
   "outputs": [],
   "source": [
    "class CPSC2018split(Dataset):\n",
    "    def __init__(self, database, split_idx_dict, \n",
    "                 tracing_col = 'tracings', exam_id_col = 'exam_id', output_col = ['AF', 'I-AVB', 'LBBB', 'RBBB', 'PAC', 'PVC', 'STD', 'STE']):\n",
    "        self.database = database\n",
    "        self.split_idx_dict = split_idx_dict\n",
    "\n",
    "        self.tracing_col = tracing_col\n",
    "        self.exam_id_col = exam_id_col\n",
    "        self.output_col = output_col\n",
    "    \n",
    "    def __len__(self):\n",
    "        return len(self.split_idx_dict[self.exam_id_col])\n",
    "    \n",
    "    def __getitem__(self, idx):\n",
    "        return {'X': self.database.hdf5_file[self.tracing_col][self.split_idx_dict['h5_idx'][idx]], \n",
    "                'y': self.database.metadata[self.output_col].loc[self.split_idx_dict['csv_idx'][idx]].values}"
   ]
  },
  {
   "cell_type": "code",
   "execution_count": 10,
   "metadata": {},
   "outputs": [],
   "source": [
    "trn_ds = CPSC2018split(data, data.trn_idx_dict)\n",
    "val_ds = CPSC2018split(data, data.val_idx_dict)\n",
    "tst_ds = CPSC2018split(data, data.tst_idx_dict)"
   ]
  },
  {
   "cell_type": "code",
   "execution_count": 11,
   "metadata": {},
   "outputs": [],
   "source": [
    "trn_loader = torch.utils.data.DataLoader(trn_ds, batch_size = 128,\n",
    "                                          shuffle = True, num_workers = 6)\n",
    "val_loader = torch.utils.data.DataLoader(val_ds, batch_size = 128,\n",
    "                                          shuffle = False, num_workers = 6)\n",
    "tst_loader = torch.utils.data.DataLoader(tst_ds, batch_size = 128,\n",
    "                                          shuffle = False, num_workers = 6)"
   ]
  },
  {
   "cell_type": "code",
   "execution_count": 12,
   "metadata": {},
   "outputs": [
    {
     "name": "stderr",
     "output_type": "stream",
     "text": [
      "  0%|          | 0/46 [00:08<?, ?it/s]\n"
     ]
    },
    {
     "data": {
      "text/plain": [
       "(torch.Size([128, 4096, 12]),\n",
       " tensor([[[ 0.0916,  0.2334,  0.1418,  ...,  0.0552,  0.0077, -0.1428],\n",
       "          [ 0.0558,  0.2210,  0.1652,  ...,  0.0249, -0.0091, -0.1754],\n",
       "          [ 0.0132,  0.1663,  0.1531,  ...,  0.0007, -0.0285, -0.1809],\n",
       "          ...,\n",
       "          [ 0.0055,  0.0444,  0.0390,  ..., -0.0392, -0.0229, -0.1960],\n",
       "          [ 0.0086,  0.0463,  0.0377,  ..., -0.0508, -0.0407, -0.2167],\n",
       "          [-0.0025,  0.0479,  0.0504,  ..., -0.0590, -0.0536, -0.2134]],\n",
       " \n",
       "         [[-0.0855, -0.1844, -0.0989,  ..., -0.1340, -0.1940, -0.1748],\n",
       "          [-0.0992, -0.2194, -0.1202,  ..., -0.1233, -0.1804, -0.1678],\n",
       "          [-0.1149, -0.2320, -0.1171,  ..., -0.1526, -0.2002, -0.1807],\n",
       "          ...,\n",
       "          [-0.1032, -0.1653, -0.0621,  ..., -0.1012, -0.1973, -0.1618],\n",
       "          [-0.0374, -0.1184, -0.0810,  ..., -0.1248, -0.2250, -0.1823],\n",
       "          [-0.0417, -0.1472, -0.1055,  ..., -0.0918, -0.1894, -0.1567]],\n",
       " \n",
       "         [[-0.1125,  0.0535,  0.1661,  ...,  0.0948, -0.0942, -0.1234],\n",
       "          [-0.1336,  0.1557,  0.2893,  ...,  0.1814, -0.1395, -0.2019],\n",
       "          [-0.1543,  0.1056,  0.2599,  ...,  0.2203, -0.1173, -0.2111],\n",
       "          ...,\n",
       "          [ 0.0000,  0.0000,  0.0000,  ...,  0.0000,  0.0000,  0.0000],\n",
       "          [ 0.0000,  0.0000,  0.0000,  ...,  0.0000,  0.0000,  0.0000],\n",
       "          [ 0.0000,  0.0000,  0.0000,  ...,  0.0000,  0.0000,  0.0000]],\n",
       " \n",
       "         ...,\n",
       " \n",
       "         [[-0.0054, -0.0653, -0.0599,  ..., -0.0457, -0.0556, -0.0406],\n",
       "          [ 0.0059, -0.0828, -0.0887,  ..., -0.0557, -0.0794, -0.0600],\n",
       "          [ 0.0068, -0.0776, -0.0844,  ..., -0.0465, -0.0734, -0.0679],\n",
       "          ...,\n",
       "          [ 0.0000,  0.0000,  0.0000,  ...,  0.0000,  0.0000,  0.0000],\n",
       "          [ 0.0000,  0.0000,  0.0000,  ...,  0.0000,  0.0000,  0.0000],\n",
       "          [ 0.0000,  0.0000,  0.0000,  ...,  0.0000,  0.0000,  0.0000]],\n",
       " \n",
       "         [[-0.0889, -0.2615, -0.1726,  ..., -0.2585, -0.4387, -0.2446],\n",
       "          [-0.1126, -0.2394, -0.1268,  ..., -0.2172, -0.4149, -0.2115],\n",
       "          [-0.0315, -0.2373, -0.2058,  ..., -0.2297, -0.4272, -0.2422],\n",
       "          ...,\n",
       "          [-0.0036, -0.1468, -0.1432,  ..., -0.1961, -0.1610, -0.2090],\n",
       "          [-0.1254, -0.2155, -0.0901,  ..., -0.1801, -0.1475, -0.2015],\n",
       "          [-0.1387, -0.2643, -0.1255,  ..., -0.2131, -0.1743, -0.2088]],\n",
       " \n",
       "         [[ 0.0768,  0.1005,  0.0238,  ...,  0.3780,  0.1620,  0.1338],\n",
       "          [ 0.1084,  0.1233,  0.0148,  ...,  0.3934,  0.1856,  0.1381],\n",
       "          [ 0.1115,  0.1258,  0.0143,  ...,  0.4073,  0.2046,  0.1497],\n",
       "          ...,\n",
       "          [ 0.0065,  0.0929,  0.0864,  ...,  0.1042,  0.0383,  0.0326],\n",
       "          [-0.0030,  0.0682,  0.0711,  ...,  0.0593,  0.0089,  0.0233],\n",
       "          [-0.0050,  0.0518,  0.0569,  ...,  0.0198, -0.0010,  0.0035]]],\n",
       "        dtype=torch.float64),\n",
       " torch.Size([128, 8]),\n",
       " tensor([[False, False, False,  ..., False,  True, False],\n",
       "         [False, False, False,  ..., False, False, False],\n",
       "         [ True, False, False,  ..., False, False, False],\n",
       "         ...,\n",
       "         [ True, False, False,  ..., False, False, False],\n",
       "         [False, False, False,  ..., False, False, False],\n",
       "         [False, False, False,  ..., False, False,  True]]))"
      ]
     },
     "execution_count": 12,
     "metadata": {},
     "output_type": "execute_result"
    }
   ],
   "source": [
    "for batch in tqdm(trn_loader):\n",
    "    break\n",
    "batch['X'].shape, batch['X'], batch['y'].shape, batch['y']"
   ]
  },
  {
   "cell_type": "code",
   "execution_count": 13,
   "metadata": {},
   "outputs": [
    {
     "name": "stderr",
     "output_type": "stream",
     "text": [
      "  0%|          | 0/6 [00:04<?, ?it/s]\n"
     ]
    },
    {
     "data": {
      "text/plain": [
       "(torch.Size([128, 4096, 12]),\n",
       " tensor([[[-8.2722e-03, -6.9901e-02, -6.1629e-02,  ..., -5.9233e-02,\n",
       "           -2.9944e-02, -1.3844e-01],\n",
       "          [-2.7614e-03, -6.0083e-02, -5.7322e-02,  ..., -5.5806e-02,\n",
       "           -2.7615e-02, -1.3302e-01],\n",
       "          [ 1.1273e-03, -4.9353e-02, -5.0480e-02,  ..., -5.2080e-02,\n",
       "           -2.4260e-02, -1.3152e-01],\n",
       "          ...,\n",
       "          [-1.1659e-01, -1.7738e-01, -6.0785e-02,  ..., -5.0219e-02,\n",
       "           -5.6028e-02, -8.9997e-02],\n",
       "          [-1.1820e-01, -1.7607e-01, -5.7866e-02,  ..., -4.9025e-02,\n",
       "           -5.6014e-02, -9.0067e-02],\n",
       "          [-1.1803e-01, -1.7583e-01, -5.7795e-02,  ..., -4.7815e-02,\n",
       "           -5.6048e-02, -8.9954e-02]],\n",
       " \n",
       "         [[ 2.0451e-01,  1.6684e-01, -3.7666e-02,  ...,  1.7393e-01,\n",
       "            3.1393e-01,  3.7568e-01],\n",
       "          [ 2.2731e-01,  1.8720e-01, -4.0111e-02,  ...,  1.8000e-01,\n",
       "            3.2325e-01,  4.0576e-01],\n",
       "          [ 2.4771e-01,  2.0193e-01, -4.5775e-02,  ...,  1.8846e-01,\n",
       "            3.3473e-01,  4.1376e-01],\n",
       "          ...,\n",
       "          [-4.3299e-02, -1.7266e-02,  2.6033e-02,  ..., -4.9747e-02,\n",
       "           -8.2069e-02, -5.5185e-02],\n",
       "          [-6.0592e-02, -4.1412e-02,  1.9180e-02,  ..., -5.4509e-02,\n",
       "           -8.2974e-02, -5.7454e-02],\n",
       "          [-4.5472e-02, -3.5704e-02,  9.7677e-03,  ..., -5.1157e-02,\n",
       "           -7.3635e-02, -5.1110e-02]],\n",
       " \n",
       "         [[-3.3560e-02,  7.6636e-03,  4.1223e-02,  ..., -6.2258e-02,\n",
       "           -1.3060e-01, -1.1711e-01],\n",
       "          [-8.7539e-03,  1.1387e-03,  9.8926e-03,  ..., -1.0266e-01,\n",
       "           -1.9834e-01, -1.9518e-01],\n",
       "          [-1.1289e-03, -2.2544e-02, -2.1415e-02,  ..., -8.1608e-02,\n",
       "           -1.6840e-01, -1.8043e-01],\n",
       "          ...,\n",
       "          [ 0.0000e+00,  0.0000e+00,  0.0000e+00,  ...,  0.0000e+00,\n",
       "            0.0000e+00,  0.0000e+00],\n",
       "          [ 0.0000e+00,  0.0000e+00,  0.0000e+00,  ...,  0.0000e+00,\n",
       "            0.0000e+00,  0.0000e+00],\n",
       "          [ 0.0000e+00,  0.0000e+00,  0.0000e+00,  ...,  0.0000e+00,\n",
       "            0.0000e+00,  0.0000e+00]],\n",
       " \n",
       "         ...,\n",
       " \n",
       "         [[-7.3925e-02, -1.0594e-01, -3.2016e-02,  ..., -1.7384e-01,\n",
       "           -1.7220e-01, -1.0589e-01],\n",
       "          [-1.0947e-01, -7.5347e-02,  3.4125e-02,  ..., -1.2241e-01,\n",
       "           -1.1570e-01, -8.9647e-02],\n",
       "          [-1.1575e-01, -1.0102e-01,  1.4731e-02,  ..., -1.2951e-01,\n",
       "           -1.3033e-01, -1.1772e-01],\n",
       "          ...,\n",
       "          [-9.0292e-02,  3.1622e-02,  1.2191e-01,  ..., -1.3087e-01,\n",
       "           -7.4359e-02, -3.5315e-02],\n",
       "          [-9.9854e-02,  2.7534e-03,  1.0261e-01,  ..., -1.5201e-01,\n",
       "           -9.1554e-02, -6.6888e-02],\n",
       "          [-1.1191e-01, -6.9176e-04,  1.1122e-01,  ..., -1.5401e-01,\n",
       "           -6.2882e-02, -4.4600e-02]],\n",
       " \n",
       "         [[-1.0712e-01, -7.9032e-02,  2.8087e-02,  ...,  8.7605e-01,\n",
       "            3.7202e-01, -1.0813e-01],\n",
       "          [-9.9445e-02, -6.6603e-02,  3.2842e-02,  ...,  8.6259e-01,\n",
       "            3.7155e-01, -1.0036e-01],\n",
       "          [-9.1975e-02, -5.8615e-02,  3.3360e-02,  ...,  8.4055e-01,\n",
       "            3.6424e-01, -9.3295e-02],\n",
       "          ...,\n",
       "          [-3.7478e-03,  3.6431e-02,  4.0179e-02,  ..., -5.0063e-02,\n",
       "           -5.7625e-02, -8.2916e-03],\n",
       "          [-4.0785e-04,  3.5096e-02,  3.5504e-02,  ..., -4.9004e-02,\n",
       "           -5.4895e-02, -2.7980e-03],\n",
       "          [-2.7842e-03,  3.2283e-02,  3.5067e-02,  ..., -4.8982e-02,\n",
       "           -5.2726e-02,  7.9884e-04]],\n",
       " \n",
       "         [[-3.2379e-02,  1.7187e-02,  4.9566e-02,  ..., -9.1460e-02,\n",
       "           -1.5446e-01, -1.3447e-01],\n",
       "          [ 2.3969e-02,  6.4393e-02,  4.0424e-02,  ..., -9.4544e-02,\n",
       "           -1.5892e-01, -1.2271e-01],\n",
       "          [ 5.4157e-03,  1.2974e-02,  7.5580e-03,  ..., -1.1648e-01,\n",
       "           -1.8283e-01, -1.4405e-01],\n",
       "          ...,\n",
       "          [-2.0553e-01, -1.0040e-01,  1.0513e-01,  ..., -4.0105e-01,\n",
       "           -1.2397e-01, -2.1713e-01],\n",
       "          [-1.4767e-01, -6.3937e-02,  8.3731e-02,  ..., -3.9080e-01,\n",
       "           -1.0343e-01, -2.0438e-01],\n",
       "          [-1.5382e-01, -8.6980e-02,  6.6844e-02,  ..., -3.9162e-01,\n",
       "           -1.0385e-01, -2.0527e-01]]], dtype=torch.float64),\n",
       " torch.Size([128, 8]),\n",
       " tensor([[False,  True, False,  ..., False, False, False],\n",
       "         [False, False, False,  ..., False, False, False],\n",
       "         [False, False, False,  ..., False, False, False],\n",
       "         ...,\n",
       "         [False, False, False,  ..., False,  True, False],\n",
       "         [ True, False, False,  ..., False, False, False],\n",
       "         [False, False, False,  ..., False, False, False]]))"
      ]
     },
     "execution_count": 13,
     "metadata": {},
     "output_type": "execute_result"
    }
   ],
   "source": [
    "for batch in tqdm(val_loader):\n",
    "    break\n",
    "batch['X'].shape, batch['X'], batch['y'].shape, batch['y']"
   ]
  },
  {
   "cell_type": "code",
   "execution_count": 14,
   "metadata": {},
   "outputs": [
    {
     "name": "stderr",
     "output_type": "stream",
     "text": [
      "  0%|          | 0/3 [00:01<?, ?it/s]\n"
     ]
    },
    {
     "data": {
      "text/plain": [
       "(torch.Size([128, 4096, 12]),\n",
       " tensor([[[ 0.0040,  0.0080,  0.0040,  ...,  0.0080,  0.0020,  0.0060],\n",
       "          [ 0.0040,  0.0080,  0.0040,  ...,  0.0080,  0.0020,  0.0060],\n",
       "          [ 0.0040,  0.0080,  0.0040,  ...,  0.0080,  0.0020,  0.0060],\n",
       "          ...,\n",
       "          [-0.0456,  0.0416,  0.0872,  ..., -0.0185, -0.0647, -0.0548],\n",
       "          [-0.0460,  0.0332,  0.0791,  ..., -0.0131, -0.0536, -0.0543],\n",
       "          [-0.0334,  0.0239,  0.0573,  ...,  0.0124, -0.0467, -0.0500]],\n",
       " \n",
       "         [[ 0.0834,  0.0504, -0.0329,  ...,  0.0371,  0.0463,  0.0486],\n",
       "          [ 0.0322,  0.0836,  0.0514,  ...,  0.0298,  0.0409,  0.0219],\n",
       "          [ 0.1092,  0.1542,  0.0450,  ...,  0.0439,  0.0456,  0.0460],\n",
       "          ...,\n",
       "          [-0.0237, -0.1663, -0.1426,  ..., -0.0525, -0.1115, -0.1521],\n",
       "          [-0.0079, -0.1177, -0.1098,  ..., -0.0255, -0.1050, -0.1467],\n",
       "          [-0.0659, -0.2061, -0.1401,  ..., -0.0650, -0.1419, -0.1692]],\n",
       " \n",
       "         [[ 0.3449,  0.4817,  0.1367,  ...,  0.8018,  0.6890,  0.6276],\n",
       "          [ 0.2870,  0.4243,  0.1374,  ...,  0.7981,  0.6873,  0.6102],\n",
       "          [ 0.2644,  0.4089,  0.1445,  ...,  0.8105,  0.7031,  0.6144],\n",
       "          ...,\n",
       "          [ 0.0627,  0.0834,  0.0207,  ..., -0.0136, -0.0052, -0.0146],\n",
       "          [ 0.0073,  0.0281,  0.0208,  ..., -0.0242, -0.0201, -0.0241],\n",
       "          [-0.0169,  0.0095,  0.0264,  ..., -0.0309, -0.0204, -0.0274]],\n",
       " \n",
       "         ...,\n",
       " \n",
       "         [[ 0.0482,  0.1101,  0.0619,  ...,  0.0285, -0.0081,  0.0463],\n",
       "          [ 0.0739,  0.1812,  0.1074,  ...,  0.0507, -0.0027,  0.0854],\n",
       "          [ 0.0657,  0.1836,  0.1179,  ...,  0.0558,  0.0071,  0.0824],\n",
       "          ...,\n",
       "          [ 0.0000,  0.0000,  0.0000,  ...,  0.0000,  0.0000,  0.0000],\n",
       "          [ 0.0000,  0.0000,  0.0000,  ...,  0.0000,  0.0000,  0.0000],\n",
       "          [ 0.0000,  0.0000,  0.0000,  ...,  0.0000,  0.0000,  0.0000]],\n",
       " \n",
       "         [[ 0.0378, -0.1106, -0.1484,  ...,  0.2592,  0.1174, -0.0473],\n",
       "          [ 0.0608, -0.1571, -0.2179,  ...,  0.3996,  0.1896, -0.0570],\n",
       "          [ 0.0724, -0.1339, -0.2063,  ...,  0.3829,  0.1943, -0.0289],\n",
       "          ...,\n",
       "          [ 0.0000,  0.0000,  0.0000,  ...,  0.0000,  0.0000,  0.0000],\n",
       "          [ 0.0000,  0.0000,  0.0000,  ...,  0.0000,  0.0000,  0.0000],\n",
       "          [ 0.0000,  0.0000,  0.0000,  ...,  0.0000,  0.0000,  0.0000]],\n",
       " \n",
       "         [[-0.1975, -0.0811,  0.1164,  ..., -0.2517, -0.3662, -0.3714],\n",
       "          [-0.1913, -0.0677,  0.1236,  ..., -0.2636, -0.3778, -0.3839],\n",
       "          [-0.2080, -0.0773,  0.1307,  ..., -0.2514, -0.3763, -0.3793],\n",
       "          ...,\n",
       "          [-0.0829, -0.1244, -0.0415,  ...,  0.0264, -0.1425, -0.2214],\n",
       "          [-0.1256, -0.1397, -0.0141,  ...,  0.0492, -0.0995, -0.1857],\n",
       "          [-0.1176, -0.1684, -0.0508,  ...,  0.0654, -0.0809, -0.1645]]],\n",
       "        dtype=torch.float64),\n",
       " torch.Size([128, 8]),\n",
       " tensor([[False,  True, False,  ...,  True, False, False],\n",
       "         [False,  True, False,  ..., False, False, False],\n",
       "         [False, False, False,  ..., False, False, False],\n",
       "         ...,\n",
       "         [False, False, False,  ..., False, False,  True],\n",
       "         [False, False, False,  ..., False, False, False],\n",
       "         [False, False, False,  ...,  True, False, False]]))"
      ]
     },
     "execution_count": 14,
     "metadata": {},
     "output_type": "execute_result"
    }
   ],
   "source": [
    "for batch in tqdm(tst_loader):\n",
    "    break\n",
    "batch['X'].shape, batch['X'], batch['y'].shape, batch['y']"
   ]
  },
  {
   "cell_type": "code",
   "execution_count": null,
   "metadata": {},
   "outputs": [],
   "source": []
  }
 ],
 "metadata": {
  "kernelspec": {
   "display_name": "clip",
   "language": "python",
   "name": "python3"
  },
  "language_info": {
   "codemirror_mode": {
    "name": "ipython",
    "version": 3
   },
   "file_extension": ".py",
   "mimetype": "text/x-python",
   "name": "python",
   "nbconvert_exporter": "python",
   "pygments_lexer": "ipython3",
   "version": "3.8.8"
  }
 },
 "nbformat": 4,
 "nbformat_minor": 2
}

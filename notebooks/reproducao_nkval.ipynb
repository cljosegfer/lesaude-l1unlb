{
 "cells": [
  {
   "cell_type": "markdown",
   "metadata": {},
   "source": [
    "# setup"
   ]
  },
  {
   "cell_type": "code",
   "execution_count": 1,
   "metadata": {},
   "outputs": [],
   "source": [
    "import os\n",
    "\n",
    "if os.getcwd().split('/')[-1] == 'notebooks':\n",
    "    os.chdir('..')"
   ]
  },
  {
   "cell_type": "code",
   "execution_count": 2,
   "metadata": {},
   "outputs": [],
   "source": [
    "import torch\n",
    "import torch.nn as nn\n",
    "import neurokit2 as nk\n",
    "import numpy as np\n",
    "\n",
    "from tqdm import tqdm\n",
    "\n",
    "from hparams import BATCH_SIZE, NUM_WORKERS\n",
    "from models.baseline import ResnetBaseline\n",
    "from runners.train import Runner"
   ]
  },
  {
   "cell_type": "code",
   "execution_count": 3,
   "metadata": {},
   "outputs": [],
   "source": [
    "from dataloaders.code_draft import CODE as DS\n",
    "from dataloaders.code_draft import CODEsplit as DSsplit"
   ]
  },
  {
   "cell_type": "markdown",
   "metadata": {},
   "source": [
    "# init"
   ]
  },
  {
   "cell_type": "code",
   "execution_count": 4,
   "metadata": {},
   "outputs": [],
   "source": [
    "database = DS()\n",
    "model = ResnetBaseline(n_classes = 6)\n",
    "model = torch.load('output/code/code.pt')\n",
    "\n",
    "device = torch.device('cuda' if torch.cuda.is_available() else 'cpu')"
   ]
  },
  {
   "cell_type": "code",
   "execution_count": 5,
   "metadata": {},
   "outputs": [
    {
     "name": "stdout",
     "output_type": "stream",
     "text": [
      "using test ds, H is treated as X\n"
     ]
    }
   ],
   "source": [
    "runner = Runner(device = device, model = model, database = database, split = DSsplit, model_label = 'code')"
   ]
  },
  {
   "cell_type": "markdown",
   "metadata": {},
   "source": [
    "# utils"
   ]
  },
  {
   "cell_type": "code",
   "execution_count": 6,
   "metadata": {},
   "outputs": [],
   "source": [
    "SIGNAL_CROP_LEN = 2560\n",
    "SIGNAL_NON_ZERO_START = 571\n",
    "\n",
    "def get_inputs(batch, device = \"cuda\"):\n",
    "    # (B, C, L)\n",
    "    if batch.shape[1] > batch.shape[2]:\n",
    "        batch = batch.permute(0, 2, 1)\n",
    "    \n",
    "    fs = 400\n",
    "    for i in (range(batch.shape[0])):\n",
    "        for j in range(batch.shape[1]):\n",
    "            batch[i, j, :] = torch.tensor(nk.ecg_clean(batch[i, j, :], sampling_rate = fs).copy())\n",
    "\n",
    "    transformed_data = batch.float()\n",
    "    return transformed_data.to(device)"
   ]
  },
  {
   "cell_type": "code",
   "execution_count": 7,
   "metadata": {},
   "outputs": [],
   "source": [
    "from sklearn.metrics import f1_score\n",
    "\n",
    "def find_best_thresholds(predictions, true_labels_dict, thresholds):\n",
    "    num_classes = len(predictions[0])\n",
    "    best_thresholds = [0.5] * num_classes\n",
    "    best_f1s = [0.0] * num_classes\n",
    "\n",
    "    for class_idx in (range(num_classes)):\n",
    "        for thresh in thresholds:\n",
    "            f1 = f1_score(\n",
    "                true_labels_dict[class_idx],\n",
    "                predictions[thresh][class_idx],\n",
    "                zero_division=0,\n",
    "            )\n",
    "\n",
    "            if f1 > best_f1s[class_idx]:\n",
    "                best_f1s[class_idx] = f1\n",
    "                best_thresholds[class_idx] = thresh\n",
    "    \n",
    "    return best_f1s, best_thresholds"
   ]
  },
  {
   "cell_type": "code",
   "execution_count": 8,
   "metadata": {},
   "outputs": [],
   "source": [
    "from sklearn.metrics import accuracy_score, precision_score, recall_score, roc_auc_score\n",
    "\n",
    "def metrics_table(all_binary_results, all_true_labels):\n",
    "    accuracy_scores = []\n",
    "    precision_scores = []\n",
    "    recall_scores = []\n",
    "    f1_scores = []\n",
    "    auc_scores = []\n",
    "\n",
    "    num_classes = all_binary_results.shape[-1]\n",
    "    for class_idx in range(num_classes):\n",
    "        class_binary_results = all_binary_results[:, class_idx].cpu().numpy()\n",
    "        class_true_labels = all_true_labels[:, class_idx].cpu().numpy()\n",
    "\n",
    "        accuracy = accuracy_score(class_true_labels, class_binary_results)\n",
    "        precision = precision_score(class_true_labels, class_binary_results, zero_division=0)\n",
    "        recall = recall_score(class_true_labels, class_binary_results, zero_division=0)\n",
    "        f1 = f1_score(class_true_labels, class_binary_results, zero_division=0)\n",
    "        auc = roc_auc_score(class_true_labels, class_binary_results)\n",
    "\n",
    "        accuracy_scores.append(accuracy)\n",
    "        precision_scores.append(precision)\n",
    "        recall_scores.append(recall)\n",
    "        f1_scores.append(f1)\n",
    "        auc_scores.append(auc)\n",
    "    \n",
    "    # normal\n",
    "    # normal_idx = torch.sum(all_true_labels, dim = 1) == 0\n",
    "    \n",
    "    # class_binary_results = torch.sum(all_binary_results, axis = 1).bool()[normal_idx].cpu().numpy()\n",
    "    # class_true_labels = torch.sum(all_true_labels, axis = 1).bool()[normal_idx].cpu().numpy()\n",
    "    class_binary_results = (~torch.sum(all_binary_results, axis = 1).bool()).int().cpu().numpy()\n",
    "    class_true_labels = (~torch.sum(all_true_labels, axis = 1).bool()).int().cpu().numpy()\n",
    "\n",
    "    accuracy = accuracy_score(class_true_labels, class_binary_results)\n",
    "    precision = precision_score(class_true_labels, class_binary_results, zero_division=0)\n",
    "    recall = recall_score(class_true_labels, class_binary_results, zero_division=0)\n",
    "    f1 = f1_score(class_true_labels, class_binary_results, zero_division=0)\n",
    "    auc = roc_auc_score(class_true_labels, class_binary_results)\n",
    "    \n",
    "    accuracy_scores.append(accuracy)\n",
    "    precision_scores.append(precision)\n",
    "    recall_scores.append(recall)\n",
    "    f1_scores.append(f1)\n",
    "    auc_scores.append(auc)\n",
    "\n",
    "    metrics_dict = {\n",
    "        \"Accuracy\": accuracy_scores,\n",
    "        # \"Precision\": precision_scores,\n",
    "        # \"Recall\": recall_scores,\n",
    "        \"F1 Score\": f1_scores,\n",
    "        \"AUC ROC\": auc_scores,\n",
    "    }\n",
    "\n",
    "    return metrics_dict"
   ]
  },
  {
   "cell_type": "code",
   "execution_count": 9,
   "metadata": {},
   "outputs": [],
   "source": [
    "def synthesis(model, device, loader, best_thresholds = None):\n",
    "    if best_thresholds == None:\n",
    "        num_classes = 6\n",
    "        thresholds = np.arange(0, 1.01, 0.01)  # Array of thresholds from 0 to 1 with step 0.01\n",
    "        predictions = {thresh: [[] for _ in range(num_classes)] for thresh in thresholds}\n",
    "        true_labels_dict = [[] for _ in range(num_classes)]\n",
    "    else:\n",
    "        all_binary_results = []\n",
    "        all_true_labels = []\n",
    "\n",
    "    model.eval()\n",
    "    with torch.no_grad():\n",
    "        for batch in tqdm(loader):\n",
    "            # raw, exam_id, label = batch\n",
    "            raw = batch['X']\n",
    "            label = batch['y']\n",
    "            ecg = get_inputs(raw, device = device)\n",
    "            label = label.to(device).float()\n",
    "\n",
    "            logits = model(ecg)\n",
    "            probs = torch.sigmoid(logits)\n",
    "\n",
    "            if best_thresholds == None:\n",
    "                for class_idx in range(num_classes):\n",
    "                    for thresh in thresholds:\n",
    "                        predicted_binary = (probs[:, class_idx] >= thresh).float()\n",
    "                        predictions[thresh][class_idx].extend(\n",
    "                            predicted_binary.cpu().numpy()\n",
    "                        )\n",
    "                    true_labels_dict[class_idx].extend(\n",
    "                        label[:, class_idx].cpu().numpy()\n",
    "                    )\n",
    "            else:\n",
    "                binary_result = torch.zeros_like(probs)\n",
    "                for i in range(len(best_thresholds)):\n",
    "                    binary_result[:, i] = (\n",
    "                        probs[:, i] >= best_thresholds[i]\n",
    "                    ).float()\n",
    "                \n",
    "                all_binary_results.append(binary_result)\n",
    "                all_true_labels.append(label)\n",
    "\n",
    "    if best_thresholds == None:\n",
    "        best_f1s, best_thresholds = find_best_thresholds(predictions, true_labels_dict, thresholds)\n",
    "        return best_f1s, best_thresholds\n",
    "    else:\n",
    "        all_binary_results = torch.cat(all_binary_results, dim=0)\n",
    "        all_true_labels = torch.cat(all_true_labels, dim=0)\n",
    "        return all_binary_results, all_true_labels, metrics_table(all_binary_results, all_true_labels)"
   ]
  },
  {
   "cell_type": "markdown",
   "metadata": {},
   "source": [
    "# eval"
   ]
  },
  {
   "cell_type": "code",
   "execution_count": 10,
   "metadata": {},
   "outputs": [],
   "source": [
    "old_f1s = [0.5957446808510638,\n",
    " 0.8368794326241135,\n",
    " 0.8463611859838275,\n",
    " 0.7044025157232704,\n",
    " 0.8435754189944135,\n",
    " 0.7948717948717948]\n",
    "old_thresholds = [0.15, 0.47000000000000003, 0.6900000000000001, 0.39, 0.44, 0.42]"
   ]
  },
  {
   "cell_type": "code",
   "execution_count": 11,
   "metadata": {},
   "outputs": [
    {
     "name": "stderr",
     "output_type": "stream",
     "text": [
      "100%|██████████| 7/7 [00:17<00:00,  2.56s/it]\n"
     ]
    }
   ],
   "source": [
    "model = model.to(device)\n",
    "val_dl = torch.utils.data.DataLoader(runner.val_ds, batch_size = BATCH_SIZE, \n",
    "                                        shuffle = False, num_workers = NUM_WORKERS)\n",
    "tst_dl = torch.utils.data.DataLoader(runner.tst_ds, batch_size = BATCH_SIZE, \n",
    "                                        shuffle = False, num_workers = NUM_WORKERS)\n",
    "# best_f1s, best_thresholds = runner._synthesis(val_dl, best_thresholds = None)\n",
    "# all_binary_results, all_true_labels, metrics_dict = runner._synthesis(tst_dl, best_thresholds)\n",
    "# best_f1s, best_thresholds = synthesis(model, device, val_dl, best_thresholds = None)\n",
    "all_binary_results, all_true_labels, metrics_dict = synthesis(model, device, tst_dl, old_thresholds)"
   ]
  },
  {
   "cell_type": "code",
   "execution_count": 12,
   "metadata": {},
   "outputs": [
    {
     "data": {
      "text/plain": [
       "{'Accuracy': [0.9939540507859734,\n",
       "  0.9939540507859734,\n",
       "  0.9987908101571947,\n",
       "  0.992744860943168,\n",
       "  0.9951632406287787,\n",
       "  0.992744860943168,\n",
       "  0.9758162031438936],\n",
       " 'F1 Score': [0.9090909090909091,\n",
       "  0.9275362318840579,\n",
       "  0.983050847457627,\n",
       "  0.8421052631578948,\n",
       "  0.8333333333333333,\n",
       "  0.9166666666666667,\n",
       "  0.9853157121879589],\n",
       " 'AUC ROC': [0.945177006973002,\n",
       "  0.9686966842222386,\n",
       "  0.9833333333333334,\n",
       "  0.9963008631319359,\n",
       "  0.8840011340011339,\n",
       "  0.9446801231611358,\n",
       "  0.9584112807515136]}"
      ]
     },
     "execution_count": 12,
     "metadata": {},
     "output_type": "execute_result"
    }
   ],
   "source": [
    "metrics_dict"
   ]
  }
 ],
 "metadata": {
  "kernelspec": {
   "display_name": "clip",
   "language": "python",
   "name": "python3"
  },
  "language_info": {
   "codemirror_mode": {
    "name": "ipython",
    "version": 3
   },
   "file_extension": ".py",
   "mimetype": "text/x-python",
   "name": "python",
   "nbconvert_exporter": "python",
   "pygments_lexer": "ipython3",
   "version": "3.8.8"
  }
 },
 "nbformat": 4,
 "nbformat_minor": 2
}

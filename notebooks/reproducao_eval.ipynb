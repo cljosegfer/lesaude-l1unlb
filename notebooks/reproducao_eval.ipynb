{
 "cells": [
  {
   "cell_type": "markdown",
   "metadata": {},
   "source": [
    "# setup"
   ]
  },
  {
   "cell_type": "code",
   "execution_count": 1,
   "metadata": {},
   "outputs": [],
   "source": [
    "import os\n",
    "\n",
    "if os.getcwd().split('/')[-1] == 'notebooks':\n",
    "    os.chdir('..')"
   ]
  },
  {
   "cell_type": "code",
   "execution_count": 2,
   "metadata": {},
   "outputs": [],
   "source": [
    "import torch\n",
    "import torch.nn as nn\n",
    "\n",
    "from tqdm import tqdm\n",
    "\n",
    "from models.baseline import ResnetBaseline\n",
    "from runners.train import Runner\n",
    "from hparams import BATCH_SIZE, NUM_WORKERS"
   ]
  },
  {
   "cell_type": "code",
   "execution_count": 3,
   "metadata": {},
   "outputs": [],
   "source": [
    "device = torch.device('cuda' if torch.cuda.is_available() else 'cpu')"
   ]
  },
  {
   "cell_type": "markdown",
   "metadata": {},
   "source": [
    "# code14"
   ]
  },
  {
   "cell_type": "code",
   "execution_count": 4,
   "metadata": {},
   "outputs": [
    {
     "name": "stderr",
     "output_type": "stream",
     "text": [
      "838it [00:00, 8378.19it/s]"
     ]
    },
    {
     "name": "stdout",
     "output_type": "stream",
     "text": [
      "checking exam_id consistency in idx dict\n"
     ]
    },
    {
     "name": "stderr",
     "output_type": "stream",
     "text": [
      "284928it [00:33, 8404.65it/s]\n",
      "834it [00:00, 8332.99it/s]"
     ]
    },
    {
     "name": "stdout",
     "output_type": "stream",
     "text": [
      "checking exam_id consistency in idx dict\n"
     ]
    },
    {
     "name": "stderr",
     "output_type": "stream",
     "text": [
      "11528it [00:01, 8370.23it/s]\n",
      "1670it [00:00, 8342.04it/s]"
     ]
    },
    {
     "name": "stdout",
     "output_type": "stream",
     "text": [
      "checking exam_id consistency in idx dict\n"
     ]
    },
    {
     "name": "stderr",
     "output_type": "stream",
     "text": [
      "284928it [00:33, 8401.63it/s]\n"
     ]
    }
   ],
   "source": [
    "from dataloaders.code import CODE as DS\n",
    "from dataloaders.code import CODEsplit as DSsplit\n",
    "\n",
    "database = DS()"
   ]
  },
  {
   "cell_type": "code",
   "execution_count": 5,
   "metadata": {},
   "outputs": [],
   "source": [
    "model = ResnetBaseline(n_classes = 6)\n",
    "model = torch.load('output/code/code.pt')"
   ]
  },
  {
   "cell_type": "code",
   "execution_count": 6,
   "metadata": {},
   "outputs": [
    {
     "name": "stdout",
     "output_type": "stream",
     "text": [
      "using test ds, H is treated as X\n"
     ]
    }
   ],
   "source": [
    "runner = Runner(device = device, model = model, database = database, split = DSsplit, model_label = 'code')"
   ]
  },
  {
   "cell_type": "code",
   "execution_count": 7,
   "metadata": {},
   "outputs": [
    {
     "name": "stderr",
     "output_type": "stream",
     "text": [
      "  0%|          | 0/91 [00:00<?, ?it/s]"
     ]
    },
    {
     "name": "stderr",
     "output_type": "stream",
     "text": [
      "100%|██████████| 91/91 [02:12<00:00,  1.46s/it]\n",
      "100%|██████████| 7/7 [00:05<00:00,  1.20it/s]\n"
     ]
    }
   ],
   "source": [
    "model = model.to(device)\n",
    "val_dl = torch.utils.data.DataLoader(runner.val_ds, batch_size = BATCH_SIZE, \n",
    "                                        shuffle = False, num_workers = NUM_WORKERS)\n",
    "tst_dl = torch.utils.data.DataLoader(runner.tst_ds, batch_size = BATCH_SIZE, \n",
    "                                        shuffle = False, num_workers = NUM_WORKERS)\n",
    "best_f1s, best_thresholds = runner._synthesis(val_dl, best_thresholds = None)\n",
    "all_binary_results, all_true_labels, metrics_dict = runner._synthesis(tst_dl, best_thresholds)"
   ]
  },
  {
   "cell_type": "code",
   "execution_count": 8,
   "metadata": {},
   "outputs": [
    {
     "data": {
      "text/plain": [
       "{'Accuracy': [0.9903264812575574,\n",
       "  0.9939540507859734,\n",
       "  0.9987908101571947,\n",
       "  0.9915356711003628,\n",
       "  0.9963724304715841,\n",
       "  0.9939540507859734,\n",
       "  0.9746070133010882],\n",
       " 'F1 Score': [0.8518518518518519,\n",
       "  0.9275362318840579,\n",
       "  0.983050847457627,\n",
       "  0.8108108108108109,\n",
       "  0.8695652173913044,\n",
       "  0.9315068493150684,\n",
       "  0.9845928099779897],\n",
       " 'AUC ROC': [0.9088369390309315,\n",
       "  0.9686966842222386,\n",
       "  0.9833333333333334,\n",
       "  0.9650508631319359,\n",
       "  0.8846153846153846,\n",
       "  0.9581936366746493,\n",
       "  0.9549866232172671]}"
      ]
     },
     "execution_count": 8,
     "metadata": {},
     "output_type": "execute_result"
    }
   ],
   "source": [
    "metrics_dict"
   ]
  },
  {
   "cell_type": "markdown",
   "metadata": {},
   "source": [
    "# code15"
   ]
  },
  {
   "cell_type": "code",
   "execution_count": 9,
   "metadata": {},
   "outputs": [
    {
     "name": "stderr",
     "output_type": "stream",
     "text": [
      "785it [00:00, 7848.21it/s]"
     ]
    },
    {
     "name": "stdout",
     "output_type": "stream",
     "text": [
      "checking exam_id consistency in idx dict\n"
     ]
    },
    {
     "name": "stderr",
     "output_type": "stream",
     "text": [
      "321490it [00:38, 8246.42it/s]\n",
      "1620it [00:00, 8097.66it/s]"
     ]
    },
    {
     "name": "stdout",
     "output_type": "stream",
     "text": [
      "checking exam_id consistency in idx dict\n"
     ]
    },
    {
     "name": "stderr",
     "output_type": "stream",
     "text": [
      "24289it [00:03, 8065.23it/s]\n"
     ]
    }
   ],
   "source": [
    "from dataloaders.code15 import CODE as DS\n",
    "from dataloaders.code15 import CODEsplit as DSsplit\n",
    "\n",
    "database = DS()"
   ]
  },
  {
   "cell_type": "code",
   "execution_count": 10,
   "metadata": {},
   "outputs": [],
   "source": [
    "model = ResnetBaseline(n_classes = 6)\n",
    "model = torch.load('output/code15/code15.pt')"
   ]
  },
  {
   "cell_type": "code",
   "execution_count": 11,
   "metadata": {},
   "outputs": [
    {
     "name": "stdout",
     "output_type": "stream",
     "text": [
      "using test ds, H is treated as X\n"
     ]
    }
   ],
   "source": [
    "runner = Runner(device = device, model = model, database = database, split = DSsplit, model_label = 'code')"
   ]
  },
  {
   "cell_type": "code",
   "execution_count": 12,
   "metadata": {},
   "outputs": [
    {
     "name": "stderr",
     "output_type": "stream",
     "text": [
      "100%|██████████| 190/190 [04:40<00:00,  1.48s/it]\n",
      "100%|██████████| 7/7 [00:16<00:00,  2.31s/it]\n"
     ]
    }
   ],
   "source": [
    "model = model.to(device)\n",
    "val_dl = torch.utils.data.DataLoader(runner.val_ds, batch_size = BATCH_SIZE, \n",
    "                                        shuffle = False, num_workers = NUM_WORKERS)\n",
    "tst_dl = torch.utils.data.DataLoader(runner.tst_ds, batch_size = BATCH_SIZE, \n",
    "                                        shuffle = False, num_workers = NUM_WORKERS)\n",
    "best_f1s, best_thresholds = runner._synthesis(val_dl, best_thresholds = None)\n",
    "all_binary_results, all_true_labels, metrics_dict = runner._synthesis(tst_dl, best_thresholds)"
   ]
  },
  {
   "cell_type": "code",
   "execution_count": 13,
   "metadata": {},
   "outputs": [
    {
     "data": {
      "text/plain": [
       "{'Accuracy': [0.9806529625151149,\n",
       "  0.9915356711003628,\n",
       "  0.992744860943168,\n",
       "  0.992744860943168,\n",
       "  0.9939540507859734,\n",
       "  0.9915356711003628,\n",
       "  0.9564691656590084],\n",
       " 'F1 Score': [0.6,\n",
       "  0.8923076923076922,\n",
       "  0.888888888888889,\n",
       "  0.823529411764706,\n",
       "  0.8,\n",
       "  0.9014084507042254,\n",
       "  0.9740259740259741],\n",
       " 'AUC ROC': [0.7142857142857143,\n",
       "  0.9252095541873749,\n",
       "  0.9,\n",
       "  0.9350339087546239,\n",
       "  0.8833868833868834,\n",
       "  0.9311666096476223,\n",
       "  0.8928549876289904]}"
      ]
     },
     "execution_count": 13,
     "metadata": {},
     "output_type": "execute_result"
    }
   ],
   "source": [
    "metrics_dict"
   ]
  }
 ],
 "metadata": {
  "kernelspec": {
   "display_name": "clip",
   "language": "python",
   "name": "python3"
  },
  "language_info": {
   "codemirror_mode": {
    "name": "ipython",
    "version": 3
   },
   "file_extension": ".py",
   "mimetype": "text/x-python",
   "name": "python",
   "nbconvert_exporter": "python",
   "pygments_lexer": "ipython3",
   "version": "3.8.8"
  }
 },
 "nbformat": 4,
 "nbformat_minor": 2
}

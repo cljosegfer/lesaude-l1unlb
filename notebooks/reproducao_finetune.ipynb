{
 "cells": [
  {
   "cell_type": "markdown",
   "metadata": {},
   "source": [
    "# setup"
   ]
  },
  {
   "cell_type": "code",
   "execution_count": 1,
   "metadata": {},
   "outputs": [],
   "source": [
    "import os\n",
    "\n",
    "if os.getcwd().split('/')[-1] == 'notebooks':\n",
    "    os.chdir('..')"
   ]
  },
  {
   "cell_type": "code",
   "execution_count": 2,
   "metadata": {},
   "outputs": [],
   "source": [
    "import torch\n",
    "import torch.nn as nn\n",
    "\n",
    "from models.baseline import ResnetBaseline\n",
    "from runners.train import Runner\n",
    "from utils import load_backbone"
   ]
  },
  {
   "cell_type": "code",
   "execution_count": 3,
   "metadata": {},
   "outputs": [],
   "source": [
    "import argparse\n",
    "\n",
    "parser = argparse.ArgumentParser()\n",
    "parser.add_argument('model_label', type = str, choices = ['fn_code', 'fn_cpsc2018', 'fn_ptbxl', 'fn_ningbo'])\n",
    "args = parser.parse_args(args = ['fn_cpsc2018'])"
   ]
  },
  {
   "cell_type": "code",
   "execution_count": 4,
   "metadata": {},
   "outputs": [],
   "source": [
    "if args.model_label == 'fn_code':\n",
    "    from dataloaders.code import CODE as DS\n",
    "    from dataloaders.code import CODEsplit as DSsplit\n",
    "\n",
    "    epochs = 5\n",
    "    n_classes = 6\n",
    "\n",
    "if args.model_label == 'fn_cpsc2018':\n",
    "    from dataloaders.cpsc2018 import CPSC2018 as DS\n",
    "    from dataloaders.cpsc2018 import CPSC2018split as DSsplit\n",
    "\n",
    "    epochs = 225\n",
    "    n_classes = 8\n",
    "\n",
    "if args.model_label == 'fn_ptbxl':\n",
    "    from dataloaders.ptbxl import PTBXL as DS\n",
    "    from dataloaders.ptbxl import PTBXLsplit as DSsplit\n",
    "\n",
    "    epochs = 80\n",
    "    n_classes = 5\n",
    "\n",
    "if args.model_label == 'fn_ningbo':\n",
    "    from dataloaders.ningbo import NINGBO as DS\n",
    "    from dataloaders.ningbo import NINGBOsplit as DSsplit\n",
    "\n",
    "    epochs = 50\n",
    "    n_classes = 9"
   ]
  },
  {
   "cell_type": "markdown",
   "metadata": {},
   "source": [
    "# init"
   ]
  },
  {
   "cell_type": "code",
   "execution_count": 7,
   "metadata": {},
   "outputs": [
    {
     "name": "stderr",
     "output_type": "stream",
     "text": [
      "0it [00:00, ?it/s]"
     ]
    },
    {
     "name": "stderr",
     "output_type": "stream",
     "text": [
      "787it [00:00, 7865.94it/s]"
     ]
    },
    {
     "name": "stdout",
     "output_type": "stream",
     "text": [
      "checking exam_id consistency in idx dict\n"
     ]
    },
    {
     "name": "stderr",
     "output_type": "stream",
     "text": [
      "5845it [00:00, 8521.15it/s]\n",
      "687it [00:00, 8700.09it/s]\n",
      "345it [00:00, 8624.03it/s]\n"
     ]
    },
    {
     "name": "stdout",
     "output_type": "stream",
     "text": [
      "checking exam_id consistency in idx dict\n",
      "checking exam_id consistency in idx dict\n"
     ]
    }
   ],
   "source": [
    "database = DS()\n",
    "model = ResnetBaseline(n_classes = n_classes)\n",
    "model = load_backbone(model, 'output/backbone/backbone.pt')['model']\n",
    "\n",
    "device = torch.device('cuda' if torch.cuda.is_available() else 'cpu')"
   ]
  },
  {
   "cell_type": "code",
   "execution_count": 9,
   "metadata": {},
   "outputs": [],
   "source": [
    "runner = Runner(device = device, model = model, database = database, split = DSsplit, model_label = args.model_label)"
   ]
  },
  {
   "cell_type": "markdown",
   "metadata": {},
   "source": [
    "# run"
   ]
  },
  {
   "cell_type": "code",
   "execution_count": 10,
   "metadata": {},
   "outputs": [
    {
     "name": "stderr",
     "output_type": "stream",
     "text": [
      "  0%|          | 0/46 [00:00<?, ?it/s]"
     ]
    },
    {
     "name": "stdout",
     "output_type": "stream",
     "text": [
      "-- epoch 0\n"
     ]
    },
    {
     "name": "stderr",
     "output_type": "stream",
     "text": [
      "100%|██████████| 46/46 [00:44<00:00,  1.03it/s]\n",
      "100%|██████████| 6/6 [00:03<00:00,  1.81it/s]\n",
      "  0%|          | 0/46 [00:00<?, ?it/s]"
     ]
    },
    {
     "name": "stdout",
     "output_type": "stream",
     "text": [
      "new checkpoint with val loss: 0.5333446562290192\n",
      "exporting partial model at epoch 0\n",
      "-- epoch 1\n"
     ]
    },
    {
     "name": "stderr",
     "output_type": "stream",
     "text": [
      "100%|██████████| 46/46 [00:07<00:00,  6.42it/s]\n",
      "100%|██████████| 6/6 [00:00<00:00,  7.18it/s]\n",
      "  0%|          | 0/46 [00:00<?, ?it/s]"
     ]
    },
    {
     "name": "stdout",
     "output_type": "stream",
     "text": [
      "new checkpoint with val loss: 0.3007611284653346\n",
      "exporting partial model at epoch 1\n",
      "-- epoch 2\n"
     ]
    },
    {
     "name": "stderr",
     "output_type": "stream",
     "text": [
      "100%|██████████| 46/46 [00:04<00:00,  9.76it/s]\n",
      "100%|██████████| 6/6 [00:00<00:00,  9.23it/s]\n",
      "  0%|          | 0/46 [00:00<?, ?it/s]"
     ]
    },
    {
     "name": "stdout",
     "output_type": "stream",
     "text": [
      "new checkpoint with val loss: 0.27785633007685345\n",
      "exporting partial model at epoch 2\n",
      "-- epoch 3\n"
     ]
    },
    {
     "name": "stderr",
     "output_type": "stream",
     "text": [
      "100%|██████████| 46/46 [00:04<00:00,  9.88it/s]\n",
      "100%|██████████| 6/6 [00:00<00:00,  8.89it/s]\n",
      "  0%|          | 0/46 [00:00<?, ?it/s]"
     ]
    },
    {
     "name": "stdout",
     "output_type": "stream",
     "text": [
      "new checkpoint with val loss: 0.26162130385637283\n",
      "exporting partial model at epoch 3\n",
      "-- epoch 4\n"
     ]
    },
    {
     "name": "stderr",
     "output_type": "stream",
     "text": [
      "100%|██████████| 46/46 [00:04<00:00,  9.81it/s]\n",
      "100%|██████████| 6/6 [00:00<00:00,  8.86it/s]\n",
      "  0%|          | 0/46 [00:00<?, ?it/s]"
     ]
    },
    {
     "name": "stdout",
     "output_type": "stream",
     "text": [
      "new checkpoint with val loss: 0.2471661145488421\n",
      "exporting partial model at epoch 4\n",
      "-- epoch 5\n"
     ]
    },
    {
     "name": "stderr",
     "output_type": "stream",
     "text": [
      "100%|██████████| 46/46 [00:04<00:00,  9.85it/s]\n",
      "100%|██████████| 6/6 [00:00<00:00,  9.05it/s]\n",
      "  0%|          | 0/46 [00:00<?, ?it/s]"
     ]
    },
    {
     "name": "stdout",
     "output_type": "stream",
     "text": [
      "new checkpoint with val loss: 0.23025084286928177\n",
      "exporting partial model at epoch 5\n",
      "-- epoch 6\n"
     ]
    },
    {
     "name": "stderr",
     "output_type": "stream",
     "text": [
      "100%|██████████| 46/46 [00:04<00:00,  9.85it/s]\n",
      "100%|██████████| 6/6 [00:00<00:00,  9.37it/s]\n",
      "  0%|          | 0/46 [00:00<?, ?it/s]"
     ]
    },
    {
     "name": "stdout",
     "output_type": "stream",
     "text": [
      "new checkpoint with val loss: 0.21737365672985712\n",
      "exporting partial model at epoch 6\n",
      "-- epoch 7\n"
     ]
    },
    {
     "name": "stderr",
     "output_type": "stream",
     "text": [
      "100%|██████████| 46/46 [00:04<00:00,  9.84it/s]\n",
      "100%|██████████| 6/6 [00:00<00:00,  9.26it/s]\n",
      "  0%|          | 0/46 [00:00<?, ?it/s]"
     ]
    },
    {
     "name": "stdout",
     "output_type": "stream",
     "text": [
      "new checkpoint with val loss: 0.20773082971572876\n",
      "exporting partial model at epoch 7\n",
      "-- epoch 8\n"
     ]
    },
    {
     "name": "stderr",
     "output_type": "stream",
     "text": [
      "100%|██████████| 46/46 [00:04<00:00,  9.75it/s]\n",
      "100%|██████████| 6/6 [00:00<00:00,  9.30it/s]\n",
      "  0%|          | 0/46 [00:00<?, ?it/s]"
     ]
    },
    {
     "name": "stdout",
     "output_type": "stream",
     "text": [
      "new checkpoint with val loss: 0.19871420909961066\n",
      "exporting partial model at epoch 8\n",
      "-- epoch 9\n"
     ]
    },
    {
     "name": "stderr",
     "output_type": "stream",
     "text": [
      "100%|██████████| 46/46 [00:04<00:00,  9.58it/s]\n",
      "100%|██████████| 6/6 [00:00<00:00,  8.95it/s]\n",
      "  0%|          | 0/46 [00:00<?, ?it/s]"
     ]
    },
    {
     "name": "stdout",
     "output_type": "stream",
     "text": [
      "new checkpoint with val loss: 0.19061376651128134\n",
      "exporting partial model at epoch 9\n",
      "-- epoch 10\n"
     ]
    },
    {
     "name": "stderr",
     "output_type": "stream",
     "text": [
      "100%|██████████| 46/46 [00:04<00:00,  9.87it/s]\n",
      "100%|██████████| 6/6 [00:00<00:00,  6.92it/s]\n",
      "  0%|          | 0/46 [00:00<?, ?it/s]"
     ]
    },
    {
     "name": "stdout",
     "output_type": "stream",
     "text": [
      "new checkpoint with val loss: 0.17787447075049082\n",
      "exporting partial model at epoch 10\n",
      "-- epoch 11\n"
     ]
    },
    {
     "name": "stderr",
     "output_type": "stream",
     "text": [
      "100%|██████████| 46/46 [00:04<00:00,  9.82it/s]\n",
      "100%|██████████| 6/6 [00:00<00:00,  9.18it/s]\n",
      "  0%|          | 0/46 [00:00<?, ?it/s]"
     ]
    },
    {
     "name": "stdout",
     "output_type": "stream",
     "text": [
      "new checkpoint with val loss: 0.16725360602140427\n",
      "exporting partial model at epoch 11\n",
      "-- epoch 12\n"
     ]
    },
    {
     "name": "stderr",
     "output_type": "stream",
     "text": [
      "100%|██████████| 46/46 [00:04<00:00,  9.76it/s]\n",
      "100%|██████████| 6/6 [00:00<00:00,  9.01it/s]\n",
      "  0%|          | 0/46 [00:00<?, ?it/s]"
     ]
    },
    {
     "name": "stdout",
     "output_type": "stream",
     "text": [
      "new checkpoint with val loss: 0.16241253912448883\n",
      "exporting partial model at epoch 12\n",
      "-- epoch 13\n"
     ]
    },
    {
     "name": "stderr",
     "output_type": "stream",
     "text": [
      "100%|██████████| 46/46 [00:04<00:00,  9.92it/s]\n",
      "100%|██████████| 6/6 [00:00<00:00,  9.08it/s]\n",
      "  0%|          | 0/46 [00:00<?, ?it/s]"
     ]
    },
    {
     "name": "stdout",
     "output_type": "stream",
     "text": [
      "new checkpoint with val loss: 0.15849869946638742\n",
      "exporting partial model at epoch 13\n",
      "-- epoch 14\n"
     ]
    },
    {
     "name": "stderr",
     "output_type": "stream",
     "text": [
      "100%|██████████| 46/46 [00:04<00:00,  9.76it/s]\n",
      "100%|██████████| 6/6 [00:00<00:00,  9.23it/s]\n",
      "  0%|          | 0/46 [00:00<?, ?it/s]"
     ]
    },
    {
     "name": "stdout",
     "output_type": "stream",
     "text": [
      "new checkpoint with val loss: 0.15342521419127783\n",
      "exporting partial model at epoch 14\n",
      "-- epoch 15\n"
     ]
    },
    {
     "name": "stderr",
     "output_type": "stream",
     "text": [
      "100%|██████████| 46/46 [00:04<00:00,  9.83it/s]\n",
      "100%|██████████| 6/6 [00:00<00:00,  9.07it/s]\n",
      "  0%|          | 0/46 [00:00<?, ?it/s]"
     ]
    },
    {
     "name": "stdout",
     "output_type": "stream",
     "text": [
      "new checkpoint with val loss: 0.15074478586514792\n",
      "exporting partial model at epoch 15\n",
      "-- epoch 16\n"
     ]
    },
    {
     "name": "stderr",
     "output_type": "stream",
     "text": [
      "100%|██████████| 46/46 [00:04<00:00,  9.89it/s]\n",
      "100%|██████████| 6/6 [00:00<00:00,  9.26it/s]\n",
      "  0%|          | 0/46 [00:00<?, ?it/s]"
     ]
    },
    {
     "name": "stdout",
     "output_type": "stream",
     "text": [
      "-- epoch 17\n"
     ]
    },
    {
     "name": "stderr",
     "output_type": "stream",
     "text": [
      "100%|██████████| 46/46 [00:04<00:00,  9.82it/s]\n",
      "100%|██████████| 6/6 [00:00<00:00,  9.42it/s]\n",
      "  0%|          | 0/46 [00:00<?, ?it/s]"
     ]
    },
    {
     "name": "stdout",
     "output_type": "stream",
     "text": [
      "-- epoch 18\n"
     ]
    },
    {
     "name": "stderr",
     "output_type": "stream",
     "text": [
      "100%|██████████| 46/46 [00:04<00:00,  9.83it/s]\n",
      "100%|██████████| 6/6 [00:00<00:00,  9.12it/s]\n",
      "  0%|          | 0/46 [00:00<?, ?it/s]"
     ]
    },
    {
     "name": "stdout",
     "output_type": "stream",
     "text": [
      "-- epoch 19\n"
     ]
    },
    {
     "name": "stderr",
     "output_type": "stream",
     "text": [
      "100%|██████████| 46/46 [00:04<00:00,  9.85it/s]\n",
      "100%|██████████| 6/6 [00:00<00:00,  9.67it/s]\n",
      "  0%|          | 0/46 [00:00<?, ?it/s]"
     ]
    },
    {
     "name": "stdout",
     "output_type": "stream",
     "text": [
      "-- epoch 20\n"
     ]
    },
    {
     "name": "stderr",
     "output_type": "stream",
     "text": [
      "100%|██████████| 46/46 [00:04<00:00,  9.42it/s]\n",
      "100%|██████████| 6/6 [00:00<00:00,  6.86it/s]\n",
      "  0%|          | 0/46 [00:00<?, ?it/s]"
     ]
    },
    {
     "name": "stdout",
     "output_type": "stream",
     "text": [
      "-- epoch 21\n"
     ]
    },
    {
     "name": "stderr",
     "output_type": "stream",
     "text": [
      "100%|██████████| 46/46 [00:04<00:00,  9.80it/s]\n",
      "100%|██████████| 6/6 [00:00<00:00,  9.47it/s]\n",
      "  0%|          | 0/46 [00:00<?, ?it/s]"
     ]
    },
    {
     "name": "stdout",
     "output_type": "stream",
     "text": [
      "new checkpoint with val loss: 0.14240149408578873\n",
      "exporting partial model at epoch 21\n",
      "-- epoch 22\n"
     ]
    },
    {
     "name": "stderr",
     "output_type": "stream",
     "text": [
      "100%|██████████| 46/46 [00:04<00:00,  9.79it/s]\n",
      "100%|██████████| 6/6 [00:00<00:00,  9.16it/s]\n",
      "  0%|          | 0/46 [00:00<?, ?it/s]"
     ]
    },
    {
     "name": "stdout",
     "output_type": "stream",
     "text": [
      "new checkpoint with val loss: 0.14177675048510233\n",
      "exporting partial model at epoch 22\n",
      "-- epoch 23\n"
     ]
    },
    {
     "name": "stderr",
     "output_type": "stream",
     "text": [
      "100%|██████████| 46/46 [00:04<00:00,  9.74it/s]\n",
      "100%|██████████| 6/6 [00:00<00:00,  9.24it/s]\n",
      "  0%|          | 0/46 [00:00<?, ?it/s]"
     ]
    },
    {
     "name": "stdout",
     "output_type": "stream",
     "text": [
      "-- epoch 24\n"
     ]
    },
    {
     "name": "stderr",
     "output_type": "stream",
     "text": [
      "100%|██████████| 46/46 [00:04<00:00,  9.82it/s]\n",
      "100%|██████████| 6/6 [00:00<00:00,  8.97it/s]\n",
      "  0%|          | 0/46 [00:00<?, ?it/s]"
     ]
    },
    {
     "name": "stdout",
     "output_type": "stream",
     "text": [
      "new checkpoint with val loss: 0.14020604391892752\n",
      "exporting partial model at epoch 24\n",
      "-- epoch 25\n"
     ]
    },
    {
     "name": "stderr",
     "output_type": "stream",
     "text": [
      "100%|██████████| 46/46 [00:04<00:00,  9.77it/s]\n",
      "100%|██████████| 6/6 [00:00<00:00,  9.12it/s]\n",
      "  0%|          | 0/46 [00:00<?, ?it/s]"
     ]
    },
    {
     "name": "stdout",
     "output_type": "stream",
     "text": [
      "-- epoch 26\n"
     ]
    },
    {
     "name": "stderr",
     "output_type": "stream",
     "text": [
      "100%|██████████| 46/46 [00:04<00:00,  9.78it/s]\n",
      "100%|██████████| 6/6 [00:00<00:00,  9.13it/s]\n",
      "  0%|          | 0/46 [00:00<?, ?it/s]"
     ]
    },
    {
     "name": "stdout",
     "output_type": "stream",
     "text": [
      "-- epoch 27\n"
     ]
    },
    {
     "name": "stderr",
     "output_type": "stream",
     "text": [
      "100%|██████████| 46/46 [00:04<00:00,  9.85it/s]\n",
      "100%|██████████| 6/6 [00:00<00:00,  9.16it/s]\n",
      "  0%|          | 0/46 [00:00<?, ?it/s]"
     ]
    },
    {
     "name": "stdout",
     "output_type": "stream",
     "text": [
      "-- epoch 28\n"
     ]
    },
    {
     "name": "stderr",
     "output_type": "stream",
     "text": [
      "100%|██████████| 46/46 [00:04<00:00,  9.92it/s]\n",
      "100%|██████████| 6/6 [00:00<00:00,  9.19it/s]\n",
      "  0%|          | 0/46 [00:00<?, ?it/s]"
     ]
    },
    {
     "name": "stdout",
     "output_type": "stream",
     "text": [
      "-- epoch 29\n"
     ]
    },
    {
     "name": "stderr",
     "output_type": "stream",
     "text": [
      "100%|██████████| 46/46 [00:04<00:00,  9.79it/s]\n",
      "100%|██████████| 6/6 [00:00<00:00,  8.98it/s]\n"
     ]
    },
    {
     "name": "stdout",
     "output_type": "stream",
     "text": [
      "exporting last model\n"
     ]
    }
   ],
   "source": [
    "runner.train(epochs)"
   ]
  },
  {
   "cell_type": "code",
   "execution_count": 11,
   "metadata": {},
   "outputs": [
    {
     "name": "stderr",
     "output_type": "stream",
     "text": [
      "100%|██████████| 6/6 [00:01<00:00,  5.42it/s]\n",
      "100%|██████████| 3/3 [00:02<00:00,  1.48it/s]\n"
     ]
    }
   ],
   "source": [
    "runner.eval()"
   ]
  }
 ],
 "metadata": {
  "kernelspec": {
   "display_name": "clip",
   "language": "python",
   "name": "python3"
  },
  "language_info": {
   "codemirror_mode": {
    "name": "ipython",
    "version": 3
   },
   "file_extension": ".py",
   "mimetype": "text/x-python",
   "name": "python",
   "nbconvert_exporter": "python",
   "pygments_lexer": "ipython3",
   "version": "3.8.8"
  }
 },
 "nbformat": 4,
 "nbformat_minor": 2
}

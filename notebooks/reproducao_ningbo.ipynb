{
 "cells": [
  {
   "cell_type": "markdown",
   "metadata": {},
   "source": [
    "# setup"
   ]
  },
  {
   "cell_type": "code",
   "execution_count": 1,
   "metadata": {},
   "outputs": [],
   "source": [
    "import os\n",
    "\n",
    "if os.getcwd().split('/')[-1] == 'notebooks':\n",
    "    os.chdir('..')"
   ]
  },
  {
   "cell_type": "code",
   "execution_count": 2,
   "metadata": {},
   "outputs": [],
   "source": [
    "import h5py\n",
    "import pandas as pd\n",
    "import numpy as np\n",
    "import torch\n",
    "import matplotlib.pyplot as plt\n",
    "\n",
    "from tqdm import tqdm"
   ]
  },
  {
   "cell_type": "markdown",
   "metadata": {},
   "source": [
    "# init"
   ]
  },
  {
   "cell_type": "code",
   "execution_count": 3,
   "metadata": {},
   "outputs": [],
   "source": [
    "hdf5_path = '/home/josegfer/datasets/ningbo/ningbo.h5'\n",
    "metadata_path = '/home/josegfer/datasets/ningbo/metadata.csv'"
   ]
  },
  {
   "cell_type": "code",
   "execution_count": 4,
   "metadata": {},
   "outputs": [],
   "source": [
    "val_size = 0.10\n",
    "tst_size = 0.05"
   ]
  },
  {
   "cell_type": "code",
   "execution_count": 5,
   "metadata": {},
   "outputs": [],
   "source": [
    "exam_id_col = 'exam_id'"
   ]
  },
  {
   "cell_type": "markdown",
   "metadata": {},
   "source": [
    "# draft"
   ]
  },
  {
   "cell_type": "code",
   "execution_count": 6,
   "metadata": {},
   "outputs": [
    {
     "data": {
      "text/html": [
       "<div>\n",
       "<style scoped>\n",
       "    .dataframe tbody tr th:only-of-type {\n",
       "        vertical-align: middle;\n",
       "    }\n",
       "\n",
       "    .dataframe tbody tr th {\n",
       "        vertical-align: top;\n",
       "    }\n",
       "\n",
       "    .dataframe thead th {\n",
       "        text-align: right;\n",
       "    }\n",
       "</style>\n",
       "<table border=\"1\" class=\"dataframe\">\n",
       "  <thead>\n",
       "    <tr style=\"text-align: right;\">\n",
       "      <th></th>\n",
       "      <th>exam_id</th>\n",
       "      <th>1AVB</th>\n",
       "      <th>2AVB</th>\n",
       "      <th>2AVB1</th>\n",
       "      <th>2AVB2</th>\n",
       "      <th>3AVB</th>\n",
       "      <th>ABI</th>\n",
       "      <th>ALS</th>\n",
       "      <th>APB</th>\n",
       "      <th>AQW</th>\n",
       "      <th>...</th>\n",
       "      <th>AEC</th>\n",
       "      <th>BPAC</th>\n",
       "      <th>SAr</th>\n",
       "      <th>SPPB</th>\n",
       "      <th>PTW</th>\n",
       "      <th>JT</th>\n",
       "      <th>BS</th>\n",
       "      <th>AJR</th>\n",
       "      <th>SPRS</th>\n",
       "      <th>LAH</th>\n",
       "    </tr>\n",
       "  </thead>\n",
       "  <tbody>\n",
       "    <tr>\n",
       "      <th>0</th>\n",
       "      <td>1</td>\n",
       "      <td>False</td>\n",
       "      <td>False</td>\n",
       "      <td>False</td>\n",
       "      <td>False</td>\n",
       "      <td>False</td>\n",
       "      <td>False</td>\n",
       "      <td>False</td>\n",
       "      <td>False</td>\n",
       "      <td>False</td>\n",
       "      <td>...</td>\n",
       "      <td>False</td>\n",
       "      <td>False</td>\n",
       "      <td>False</td>\n",
       "      <td>False</td>\n",
       "      <td>False</td>\n",
       "      <td>False</td>\n",
       "      <td>False</td>\n",
       "      <td>False</td>\n",
       "      <td>False</td>\n",
       "      <td>False</td>\n",
       "    </tr>\n",
       "    <tr>\n",
       "      <th>1</th>\n",
       "      <td>2</td>\n",
       "      <td>False</td>\n",
       "      <td>False</td>\n",
       "      <td>False</td>\n",
       "      <td>False</td>\n",
       "      <td>False</td>\n",
       "      <td>False</td>\n",
       "      <td>False</td>\n",
       "      <td>False</td>\n",
       "      <td>False</td>\n",
       "      <td>...</td>\n",
       "      <td>False</td>\n",
       "      <td>False</td>\n",
       "      <td>False</td>\n",
       "      <td>False</td>\n",
       "      <td>False</td>\n",
       "      <td>False</td>\n",
       "      <td>False</td>\n",
       "      <td>False</td>\n",
       "      <td>False</td>\n",
       "      <td>False</td>\n",
       "    </tr>\n",
       "    <tr>\n",
       "      <th>2</th>\n",
       "      <td>4</td>\n",
       "      <td>False</td>\n",
       "      <td>False</td>\n",
       "      <td>False</td>\n",
       "      <td>False</td>\n",
       "      <td>False</td>\n",
       "      <td>False</td>\n",
       "      <td>False</td>\n",
       "      <td>False</td>\n",
       "      <td>False</td>\n",
       "      <td>...</td>\n",
       "      <td>False</td>\n",
       "      <td>False</td>\n",
       "      <td>False</td>\n",
       "      <td>False</td>\n",
       "      <td>False</td>\n",
       "      <td>False</td>\n",
       "      <td>False</td>\n",
       "      <td>False</td>\n",
       "      <td>False</td>\n",
       "      <td>False</td>\n",
       "    </tr>\n",
       "    <tr>\n",
       "      <th>3</th>\n",
       "      <td>5</td>\n",
       "      <td>False</td>\n",
       "      <td>False</td>\n",
       "      <td>False</td>\n",
       "      <td>False</td>\n",
       "      <td>False</td>\n",
       "      <td>False</td>\n",
       "      <td>False</td>\n",
       "      <td>False</td>\n",
       "      <td>False</td>\n",
       "      <td>...</td>\n",
       "      <td>False</td>\n",
       "      <td>False</td>\n",
       "      <td>False</td>\n",
       "      <td>False</td>\n",
       "      <td>False</td>\n",
       "      <td>False</td>\n",
       "      <td>False</td>\n",
       "      <td>False</td>\n",
       "      <td>False</td>\n",
       "      <td>False</td>\n",
       "    </tr>\n",
       "    <tr>\n",
       "      <th>4</th>\n",
       "      <td>6</td>\n",
       "      <td>False</td>\n",
       "      <td>False</td>\n",
       "      <td>False</td>\n",
       "      <td>False</td>\n",
       "      <td>False</td>\n",
       "      <td>False</td>\n",
       "      <td>False</td>\n",
       "      <td>False</td>\n",
       "      <td>False</td>\n",
       "      <td>...</td>\n",
       "      <td>False</td>\n",
       "      <td>False</td>\n",
       "      <td>False</td>\n",
       "      <td>False</td>\n",
       "      <td>False</td>\n",
       "      <td>False</td>\n",
       "      <td>False</td>\n",
       "      <td>False</td>\n",
       "      <td>False</td>\n",
       "      <td>False</td>\n",
       "    </tr>\n",
       "    <tr>\n",
       "      <th>...</th>\n",
       "      <td>...</td>\n",
       "      <td>...</td>\n",
       "      <td>...</td>\n",
       "      <td>...</td>\n",
       "      <td>...</td>\n",
       "      <td>...</td>\n",
       "      <td>...</td>\n",
       "      <td>...</td>\n",
       "      <td>...</td>\n",
       "      <td>...</td>\n",
       "      <td>...</td>\n",
       "      <td>...</td>\n",
       "      <td>...</td>\n",
       "      <td>...</td>\n",
       "      <td>...</td>\n",
       "      <td>...</td>\n",
       "      <td>...</td>\n",
       "      <td>...</td>\n",
       "      <td>...</td>\n",
       "      <td>...</td>\n",
       "      <td>...</td>\n",
       "    </tr>\n",
       "    <tr>\n",
       "      <th>45147</th>\n",
       "      <td>45547</td>\n",
       "      <td>False</td>\n",
       "      <td>False</td>\n",
       "      <td>False</td>\n",
       "      <td>False</td>\n",
       "      <td>False</td>\n",
       "      <td>False</td>\n",
       "      <td>False</td>\n",
       "      <td>False</td>\n",
       "      <td>False</td>\n",
       "      <td>...</td>\n",
       "      <td>False</td>\n",
       "      <td>False</td>\n",
       "      <td>False</td>\n",
       "      <td>False</td>\n",
       "      <td>False</td>\n",
       "      <td>False</td>\n",
       "      <td>False</td>\n",
       "      <td>False</td>\n",
       "      <td>False</td>\n",
       "      <td>False</td>\n",
       "    </tr>\n",
       "    <tr>\n",
       "      <th>45148</th>\n",
       "      <td>45548</td>\n",
       "      <td>False</td>\n",
       "      <td>False</td>\n",
       "      <td>False</td>\n",
       "      <td>False</td>\n",
       "      <td>False</td>\n",
       "      <td>False</td>\n",
       "      <td>False</td>\n",
       "      <td>False</td>\n",
       "      <td>False</td>\n",
       "      <td>...</td>\n",
       "      <td>False</td>\n",
       "      <td>False</td>\n",
       "      <td>False</td>\n",
       "      <td>False</td>\n",
       "      <td>False</td>\n",
       "      <td>False</td>\n",
       "      <td>False</td>\n",
       "      <td>False</td>\n",
       "      <td>False</td>\n",
       "      <td>False</td>\n",
       "    </tr>\n",
       "    <tr>\n",
       "      <th>45149</th>\n",
       "      <td>45549</td>\n",
       "      <td>False</td>\n",
       "      <td>False</td>\n",
       "      <td>False</td>\n",
       "      <td>False</td>\n",
       "      <td>False</td>\n",
       "      <td>False</td>\n",
       "      <td>False</td>\n",
       "      <td>False</td>\n",
       "      <td>False</td>\n",
       "      <td>...</td>\n",
       "      <td>False</td>\n",
       "      <td>False</td>\n",
       "      <td>False</td>\n",
       "      <td>False</td>\n",
       "      <td>False</td>\n",
       "      <td>False</td>\n",
       "      <td>False</td>\n",
       "      <td>False</td>\n",
       "      <td>False</td>\n",
       "      <td>False</td>\n",
       "    </tr>\n",
       "    <tr>\n",
       "      <th>45150</th>\n",
       "      <td>45550</td>\n",
       "      <td>False</td>\n",
       "      <td>False</td>\n",
       "      <td>False</td>\n",
       "      <td>False</td>\n",
       "      <td>False</td>\n",
       "      <td>False</td>\n",
       "      <td>False</td>\n",
       "      <td>False</td>\n",
       "      <td>False</td>\n",
       "      <td>...</td>\n",
       "      <td>False</td>\n",
       "      <td>False</td>\n",
       "      <td>False</td>\n",
       "      <td>False</td>\n",
       "      <td>False</td>\n",
       "      <td>False</td>\n",
       "      <td>False</td>\n",
       "      <td>False</td>\n",
       "      <td>False</td>\n",
       "      <td>False</td>\n",
       "    </tr>\n",
       "    <tr>\n",
       "      <th>45151</th>\n",
       "      <td>45551</td>\n",
       "      <td>False</td>\n",
       "      <td>False</td>\n",
       "      <td>False</td>\n",
       "      <td>False</td>\n",
       "      <td>False</td>\n",
       "      <td>False</td>\n",
       "      <td>False</td>\n",
       "      <td>False</td>\n",
       "      <td>False</td>\n",
       "      <td>...</td>\n",
       "      <td>False</td>\n",
       "      <td>False</td>\n",
       "      <td>False</td>\n",
       "      <td>False</td>\n",
       "      <td>False</td>\n",
       "      <td>False</td>\n",
       "      <td>False</td>\n",
       "      <td>False</td>\n",
       "      <td>False</td>\n",
       "      <td>False</td>\n",
       "    </tr>\n",
       "  </tbody>\n",
       "</table>\n",
       "<p>45152 rows × 81 columns</p>\n",
       "</div>"
      ],
      "text/plain": [
       "       exam_id   1AVB   2AVB  2AVB1  2AVB2   3AVB    ABI    ALS    APB    AQW  \\\n",
       "0            1  False  False  False  False  False  False  False  False  False   \n",
       "1            2  False  False  False  False  False  False  False  False  False   \n",
       "2            4  False  False  False  False  False  False  False  False  False   \n",
       "3            5  False  False  False  False  False  False  False  False  False   \n",
       "4            6  False  False  False  False  False  False  False  False  False   \n",
       "...        ...    ...    ...    ...    ...    ...    ...    ...    ...    ...   \n",
       "45147    45547  False  False  False  False  False  False  False  False  False   \n",
       "45148    45548  False  False  False  False  False  False  False  False  False   \n",
       "45149    45549  False  False  False  False  False  False  False  False  False   \n",
       "45150    45550  False  False  False  False  False  False  False  False  False   \n",
       "45151    45551  False  False  False  False  False  False  False  False  False   \n",
       "\n",
       "       ...    AEC   BPAC    SAr   SPPB    PTW     JT     BS    AJR   SPRS  \\\n",
       "0      ...  False  False  False  False  False  False  False  False  False   \n",
       "1      ...  False  False  False  False  False  False  False  False  False   \n",
       "2      ...  False  False  False  False  False  False  False  False  False   \n",
       "3      ...  False  False  False  False  False  False  False  False  False   \n",
       "4      ...  False  False  False  False  False  False  False  False  False   \n",
       "...    ...    ...    ...    ...    ...    ...    ...    ...    ...    ...   \n",
       "45147  ...  False  False  False  False  False  False  False  False  False   \n",
       "45148  ...  False  False  False  False  False  False  False  False  False   \n",
       "45149  ...  False  False  False  False  False  False  False  False  False   \n",
       "45150  ...  False  False  False  False  False  False  False  False  False   \n",
       "45151  ...  False  False  False  False  False  False  False  False  False   \n",
       "\n",
       "         LAH  \n",
       "0      False  \n",
       "1      False  \n",
       "2      False  \n",
       "3      False  \n",
       "4      False  \n",
       "...      ...  \n",
       "45147  False  \n",
       "45148  False  \n",
       "45149  False  \n",
       "45150  False  \n",
       "45151  False  \n",
       "\n",
       "[45152 rows x 81 columns]"
      ]
     },
     "execution_count": 6,
     "metadata": {},
     "output_type": "execute_result"
    }
   ],
   "source": [
    "metadata = pd.read_csv(metadata_path)\n",
    "metadata"
   ]
  },
  {
   "cell_type": "code",
   "execution_count": 7,
   "metadata": {},
   "outputs": [],
   "source": [
    "labels = metadata.columns[1:]\n",
    "N = len(metadata)\n",
    "soma = []\n",
    "for coluna, label in enumerate(labels):\n",
    "    soma.append([coluna, np.sum(metadata[label].values) / N])\n",
    "soma = np.array(soma)"
   ]
  },
  {
   "cell_type": "code",
   "execution_count": 8,
   "metadata": {},
   "outputs": [
    {
     "data": {
      "text/plain": [
       "array([[0.00000000e+00, 2.52480510e-02],\n",
       "       [1.00000000e+00, 1.46172927e-03],\n",
       "       [2.00000000e+00, 6.86569809e-04],\n",
       "       [3.00000000e+00, 0.00000000e+00],\n",
       "       [4.00000000e+00, 1.68320340e-03],\n",
       "       [5.00000000e+00, 6.64422395e-05],\n",
       "       [6.00000000e+00, 3.42177534e-02],\n",
       "       [7.00000000e+00, 2.90574061e-02],\n",
       "       [8.00000000e+00, 2.35427002e-02],\n",
       "       [9.00000000e+00, 1.88917434e-02],\n",
       "       [1.00000000e+01, 5.55900071e-03],\n",
       "       [1.10000000e+01, 3.58788094e-03],\n",
       "       [1.20000000e+01, 1.68320340e-03],\n",
       "       [1.30000000e+01, 8.10595322e-03],\n",
       "       [1.40000000e+01, 6.64422395e-05],\n",
       "       [1.50000000e+01, 1.70756556e-02],\n",
       "       [1.60000000e+01, 1.66105599e-03],\n",
       "       [1.70000000e+01, 2.43621545e-04],\n",
       "       [1.80000000e+01, 1.02763997e-02],\n",
       "       [1.90000000e+01, 1.33903260e-01],\n",
       "       [2.00000000e+01, 3.57237775e-02],\n",
       "       [2.10000000e+01, 0.00000000e+00],\n",
       "       [2.20000000e+01, 0.00000000e+00],\n",
       "       [2.30000000e+01, 4.54021970e-03],\n",
       "       [2.40000000e+01, 1.15166549e-03],\n",
       "       [2.50000000e+01, 3.14493267e-03],\n",
       "       [2.60000000e+01, 8.65963855e-03],\n",
       "       [2.70000000e+01, 1.59461375e-03],\n",
       "       [2.80000000e+01, 4.40954996e-02],\n",
       "       [2.90000000e+01, 2.43621545e-03],\n",
       "       [3.00000000e+01, 3.69418852e-02],\n",
       "       [3.10000000e+01, 1.77400780e-02],\n",
       "       [3.20000000e+01, 1.19374557e-01],\n",
       "       [3.30000000e+01, 3.89794472e-03],\n",
       "       [3.40000000e+01, 1.55984231e-01],\n",
       "       [3.50000000e+01, 6.37181077e-02],\n",
       "       [3.60000000e+01, 3.01204819e-03],\n",
       "       [3.70000000e+01, 6.64422395e-05],\n",
       "       [3.80000000e+01, 3.34425939e-03],\n",
       "       [3.90000000e+01, 2.56909993e-03],\n",
       "       [4.00000000e+01, 3.06741673e-02],\n",
       "       [4.10000000e+01, 2.65768958e-04],\n",
       "       [4.20000000e+01, 1.77179305e-04],\n",
       "       [4.30000000e+01, 4.42948264e-05],\n",
       "       [4.40000000e+01, 1.59461375e-03],\n",
       "       [4.50000000e+01, 3.66871899e-01],\n",
       "       [4.60000000e+01, 1.79947732e-01],\n",
       "       [4.70000000e+01, 4.41840893e-02],\n",
       "       [4.80000000e+01, 1.60679483e-01],\n",
       "       [4.90000000e+01, 1.78508150e-01],\n",
       "       [5.00000000e+01, 5.64759036e-02],\n",
       "       [5.10000000e+01, 1.60347271e-02],\n",
       "       [5.20000000e+01, 6.93214033e-03],\n",
       "       [5.30000000e+01, 3.54358611e-04],\n",
       "       [5.40000000e+01, 5.75832743e-04],\n",
       "       [5.50000000e+01, 1.55031892e-04],\n",
       "       [5.60000000e+01, 3.07849043e-03],\n",
       "       [5.70000000e+01, 2.61782424e-02],\n",
       "       [5.80000000e+01, 4.76169383e-03],\n",
       "       [5.90000000e+01, 8.52675408e-03],\n",
       "       [6.00000000e+01, 8.41601701e-03],\n",
       "       [6.10000000e+01, 2.41406804e-03],\n",
       "       [6.20000000e+01, 1.30669738e-03],\n",
       "       [6.30000000e+01, 1.44844082e-02],\n",
       "       [6.40000000e+01, 2.34762580e-03],\n",
       "       [6.50000000e+01, 3.10063785e-04],\n",
       "       [6.60000000e+01, 1.30669738e-03],\n",
       "       [6.70000000e+01, 1.55031892e-04],\n",
       "       [6.80000000e+01, 4.42948264e-05],\n",
       "       [6.90000000e+01, 1.10737066e-04],\n",
       "       [7.00000000e+01, 3.76506024e-04],\n",
       "       [7.10000000e+01, 1.37313962e-03],\n",
       "       [7.20000000e+01, 7.30864635e-04],\n",
       "       [7.30000000e+01, 1.99326719e-04],\n",
       "       [7.40000000e+01, 1.10737066e-04],\n",
       "       [7.50000000e+01, 5.31537916e-04],\n",
       "       [7.60000000e+01, 1.10737066e-04],\n",
       "       [7.70000000e+01, 2.65768958e-04],\n",
       "       [7.80000000e+01, 5.09390503e-04],\n",
       "       [7.90000000e+01, 1.99326719e-04]])"
      ]
     },
     "execution_count": 8,
     "metadata": {},
     "output_type": "execute_result"
    }
   ],
   "source": [
    "soma"
   ]
  },
  {
   "cell_type": "code",
   "execution_count": 9,
   "metadata": {},
   "outputs": [
    {
     "data": {
      "text/plain": [
       "0.3668718993621545"
      ]
     },
     "execution_count": 9,
     "metadata": {},
     "output_type": "execute_result"
    }
   ],
   "source": [
    "np.max(soma[:, 1])"
   ]
  },
  {
   "cell_type": "code",
   "execution_count": 10,
   "metadata": {},
   "outputs": [
    {
     "data": {
      "text/plain": [
       "array([45, 46, 49, 48, 34, 19, 32, 35, 50, 47, 28, 30, 20,  6, 40,  7, 57,\n",
       "        0,  8,  9, 31, 15, 51, 63, 18, 26, 59, 60, 13, 52, 10, 58, 23, 33,\n",
       "       11, 38, 25, 56, 36, 39, 29, 61, 64, 12,  4, 16, 27, 44,  1, 71, 62,\n",
       "       66, 24, 72,  2, 54, 75, 78, 70, 53, 65, 41, 77, 17, 73, 79, 42, 67,\n",
       "       55, 69, 74, 76, 14,  5, 37, 43, 68, 21, 22,  3])"
      ]
     },
     "execution_count": 10,
     "metadata": {},
     "output_type": "execute_result"
    }
   ],
   "source": [
    "crescente = np.argsort(soma[:, 1])\n",
    "decrescente = np.flip(crescente)\n",
    "decrescente"
   ]
  },
  {
   "cell_type": "code",
   "execution_count": 11,
   "metadata": {},
   "outputs": [
    {
     "data": {
      "text/plain": [
       "array([[4.50000000e+01, 3.66871899e-01],\n",
       "       [4.60000000e+01, 1.79947732e-01],\n",
       "       [4.90000000e+01, 1.78508150e-01],\n",
       "       [4.80000000e+01, 1.60679483e-01],\n",
       "       [3.40000000e+01, 1.55984231e-01],\n",
       "       [1.90000000e+01, 1.33903260e-01],\n",
       "       [3.20000000e+01, 1.19374557e-01],\n",
       "       [3.50000000e+01, 6.37181077e-02],\n",
       "       [5.00000000e+01, 5.64759036e-02],\n",
       "       [4.70000000e+01, 4.41840893e-02],\n",
       "       [2.80000000e+01, 4.40954996e-02],\n",
       "       [3.00000000e+01, 3.69418852e-02],\n",
       "       [2.00000000e+01, 3.57237775e-02],\n",
       "       [6.00000000e+00, 3.42177534e-02],\n",
       "       [4.00000000e+01, 3.06741673e-02],\n",
       "       [7.00000000e+00, 2.90574061e-02],\n",
       "       [5.70000000e+01, 2.61782424e-02],\n",
       "       [0.00000000e+00, 2.52480510e-02],\n",
       "       [8.00000000e+00, 2.35427002e-02],\n",
       "       [9.00000000e+00, 1.88917434e-02],\n",
       "       [3.10000000e+01, 1.77400780e-02],\n",
       "       [1.50000000e+01, 1.70756556e-02],\n",
       "       [5.10000000e+01, 1.60347271e-02],\n",
       "       [6.30000000e+01, 1.44844082e-02],\n",
       "       [1.80000000e+01, 1.02763997e-02],\n",
       "       [2.60000000e+01, 8.65963855e-03],\n",
       "       [5.90000000e+01, 8.52675408e-03],\n",
       "       [6.00000000e+01, 8.41601701e-03],\n",
       "       [1.30000000e+01, 8.10595322e-03],\n",
       "       [5.20000000e+01, 6.93214033e-03],\n",
       "       [1.00000000e+01, 5.55900071e-03],\n",
       "       [5.80000000e+01, 4.76169383e-03],\n",
       "       [2.30000000e+01, 4.54021970e-03],\n",
       "       [3.30000000e+01, 3.89794472e-03],\n",
       "       [1.10000000e+01, 3.58788094e-03],\n",
       "       [3.80000000e+01, 3.34425939e-03],\n",
       "       [2.50000000e+01, 3.14493267e-03],\n",
       "       [5.60000000e+01, 3.07849043e-03],\n",
       "       [3.60000000e+01, 3.01204819e-03],\n",
       "       [3.90000000e+01, 2.56909993e-03],\n",
       "       [2.90000000e+01, 2.43621545e-03],\n",
       "       [6.10000000e+01, 2.41406804e-03],\n",
       "       [6.40000000e+01, 2.34762580e-03],\n",
       "       [1.20000000e+01, 1.68320340e-03],\n",
       "       [4.00000000e+00, 1.68320340e-03],\n",
       "       [1.60000000e+01, 1.66105599e-03],\n",
       "       [2.70000000e+01, 1.59461375e-03],\n",
       "       [4.40000000e+01, 1.59461375e-03],\n",
       "       [1.00000000e+00, 1.46172927e-03],\n",
       "       [7.10000000e+01, 1.37313962e-03],\n",
       "       [6.20000000e+01, 1.30669738e-03],\n",
       "       [6.60000000e+01, 1.30669738e-03],\n",
       "       [2.40000000e+01, 1.15166549e-03],\n",
       "       [7.20000000e+01, 7.30864635e-04],\n",
       "       [2.00000000e+00, 6.86569809e-04],\n",
       "       [5.40000000e+01, 5.75832743e-04],\n",
       "       [7.50000000e+01, 5.31537916e-04],\n",
       "       [7.80000000e+01, 5.09390503e-04],\n",
       "       [7.00000000e+01, 3.76506024e-04],\n",
       "       [5.30000000e+01, 3.54358611e-04],\n",
       "       [6.50000000e+01, 3.10063785e-04],\n",
       "       [4.10000000e+01, 2.65768958e-04],\n",
       "       [7.70000000e+01, 2.65768958e-04],\n",
       "       [1.70000000e+01, 2.43621545e-04],\n",
       "       [7.30000000e+01, 1.99326719e-04],\n",
       "       [7.90000000e+01, 1.99326719e-04],\n",
       "       [4.20000000e+01, 1.77179305e-04],\n",
       "       [6.70000000e+01, 1.55031892e-04],\n",
       "       [5.50000000e+01, 1.55031892e-04],\n",
       "       [6.90000000e+01, 1.10737066e-04],\n",
       "       [7.40000000e+01, 1.10737066e-04],\n",
       "       [7.60000000e+01, 1.10737066e-04],\n",
       "       [1.40000000e+01, 6.64422395e-05],\n",
       "       [5.00000000e+00, 6.64422395e-05],\n",
       "       [3.70000000e+01, 6.64422395e-05],\n",
       "       [4.30000000e+01, 4.42948264e-05],\n",
       "       [6.80000000e+01, 4.42948264e-05],\n",
       "       [2.10000000e+01, 0.00000000e+00],\n",
       "       [2.20000000e+01, 0.00000000e+00],\n",
       "       [3.00000000e+00, 0.00000000e+00]])"
      ]
     },
     "execution_count": 11,
     "metadata": {},
     "output_type": "execute_result"
    }
   ],
   "source": [
    "soma[decrescente, :]"
   ]
  },
  {
   "cell_type": "code",
   "execution_count": 12,
   "metadata": {},
   "outputs": [
    {
     "data": {
      "text/plain": [
       "array([0.3668719 , 0.54681963, 0.72532778, 0.88600726, 1.0419915 ,\n",
       "       1.17589476, 1.29526931, 1.35898742, 1.41546332, 1.45964741,\n",
       "       1.50374291, 1.5406848 , 1.57640858, 1.61062633, 1.6413005 ,\n",
       "       1.6703579 , 1.69653614, 1.7217842 , 1.7453269 , 1.76421864,\n",
       "       1.78195872, 1.79903437, 1.8150691 , 1.82955351, 1.83982991,\n",
       "       1.84848955, 1.8570163 , 1.86543232, 1.87353827, 1.88047041,\n",
       "       1.88602941, 1.89079111, 1.89533133, 1.89922927, 1.90281715,\n",
       "       1.90616141, 1.90930634, 1.91238483, 1.91539688, 1.91796598,\n",
       "       1.9204022 , 1.92281627, 1.92516389, 1.92684709, 1.9285303 ,\n",
       "       1.93019135, 1.93178597, 1.93338058, 1.93484231, 1.93621545,\n",
       "       1.93752215, 1.93882884, 1.93998051, 1.94071137, 1.94139794,\n",
       "       1.94197378, 1.94250532, 1.94301471, 1.94339121, 1.94374557,\n",
       "       1.94405563, 1.9443214 , 1.94458717, 1.94483079, 1.94503012,\n",
       "       1.94522945, 1.94540663, 1.94556166, 1.94571669, 1.94582743,\n",
       "       1.94593816, 1.9460489 , 1.94611534, 1.94618179, 1.94624823,\n",
       "       1.94629252, 1.94633682, 1.94633682, 1.94633682, 1.94633682])"
      ]
     },
     "execution_count": 12,
     "metadata": {},
     "output_type": "execute_result"
    }
   ],
   "source": [
    "np.cumsum(soma[decrescente, 1]) # tem multiclass ne"
   ]
  },
  {
   "cell_type": "code",
   "execution_count": 13,
   "metadata": {},
   "outputs": [
    {
     "data": {
      "image/png": "[encoded data removed]",
      "text/plain": [
       "<Figure size 640x480 with 1 Axes>"
      ]
     },
     "metadata": {},
     "output_type": "display_data"
    }
   ],
   "source": [
    "plt.plot(soma[decrescente, 1]); # 5% de corte ta bom?"
   ]
  },
  {
   "cell_type": "code",
   "execution_count": 14,
   "metadata": {},
   "outputs": [
    {
     "data": {
      "text/plain": [
       "(25,\n",
       " array([[0.00000000e+00, 2.52480510e-02],\n",
       "        [6.00000000e+00, 3.42177534e-02],\n",
       "        [7.00000000e+00, 2.90574061e-02],\n",
       "        [8.00000000e+00, 2.35427002e-02],\n",
       "        [9.00000000e+00, 1.88917434e-02],\n",
       "        [1.50000000e+01, 1.70756556e-02],\n",
       "        [1.80000000e+01, 1.02763997e-02],\n",
       "        [1.90000000e+01, 1.33903260e-01],\n",
       "        [2.00000000e+01, 3.57237775e-02],\n",
       "        [2.80000000e+01, 4.40954996e-02],\n",
       "        [3.00000000e+01, 3.69418852e-02],\n",
       "        [3.10000000e+01, 1.77400780e-02],\n",
       "        [3.20000000e+01, 1.19374557e-01],\n",
       "        [3.40000000e+01, 1.55984231e-01],\n",
       "        [3.50000000e+01, 6.37181077e-02],\n",
       "        [4.00000000e+01, 3.06741673e-02],\n",
       "        [4.50000000e+01, 3.66871899e-01],\n",
       "        [4.60000000e+01, 1.79947732e-01],\n",
       "        [4.70000000e+01, 4.41840893e-02],\n",
       "        [4.80000000e+01, 1.60679483e-01],\n",
       "        [4.90000000e+01, 1.78508150e-01],\n",
       "        [5.00000000e+01, 5.64759036e-02],\n",
       "        [5.10000000e+01, 1.60347271e-02],\n",
       "        [5.70000000e+01, 2.61782424e-02],\n",
       "        [6.30000000e+01, 1.44844082e-02]]))"
      ]
     },
     "execution_count": 14,
     "metadata": {},
     "output_type": "execute_result"
    }
   ],
   "source": [
    "tol = 0.01\n",
    "len(soma[soma[:, 1] > tol, :]), soma[soma[:, 1] > tol, :]"
   ]
  },
  {
   "cell_type": "code",
   "execution_count": 15,
   "metadata": {},
   "outputs": [
    {
     "data": {
      "text/plain": [
       "(9,\n",
       " array([[19.        ,  0.13390326],\n",
       "        [32.        ,  0.11937456],\n",
       "        [34.        ,  0.15598423],\n",
       "        [35.        ,  0.06371811],\n",
       "        [45.        ,  0.3668719 ],\n",
       "        [46.        ,  0.17994773],\n",
       "        [48.        ,  0.16067948],\n",
       "        [49.        ,  0.17850815],\n",
       "        [50.        ,  0.0564759 ]]))"
      ]
     },
     "execution_count": 15,
     "metadata": {},
     "output_type": "execute_result"
    }
   ],
   "source": [
    "tol = 0.05\n",
    "len(soma[soma[:, 1] > tol, :]), soma[soma[:, 1] > tol, :]"
   ]
  },
  {
   "cell_type": "code",
   "execution_count": 16,
   "metadata": {},
   "outputs": [
    {
     "data": {
      "text/plain": [
       "Index(['LVH', 'STTC', 'TWC', 'TWO', 'SB', 'SR', 'ST', 'AF', 'SA'], dtype='object')"
      ]
     },
     "execution_count": 16,
     "metadata": {},
     "output_type": "execute_result"
    }
   ],
   "source": [
    "labels[np.array(soma[soma[:, 1] > tol, 0], dtype = int)]"
   ]
  },
  {
   "cell_type": "code",
   "execution_count": 17,
   "metadata": {},
   "outputs": [
    {
     "data": {
      "text/plain": [
       "Index(['1AVB', '2AVB', '2AVB1', '2AVB2', '3AVB', 'ABI', 'ALS', 'APB', 'AQW',\n",
       "       'ARS', 'AVB', 'CCR', 'CR', 'ERV', 'FQRS', 'NSIVCB', 'JEB', 'JPT',\n",
       "       'LBBB', 'LVH', 'LVQRSAL', 'LVQRSCL', 'LVQRSLL', 'MI', 'PRIE', 'PWC',\n",
       "       'QTIE', 'RAH', 'RBBB', 'RVH', 'STDD', 'STE', 'STTC', 'STTU', 'TWC',\n",
       "       'TWO', 'UW', 'VB', 'VEB', 'VFW', 'VPB', 'VPE', 'VET', 'WAP', 'WPW',\n",
       "       'SB', 'SR', 'AFIB', 'ST', 'AF', 'SA', 'SVT', 'AT', 'AVNRT', 'AVRT',\n",
       "       'AA', 'ER', 'RfAP', 'TPW', 'BBB', 'LAFB', 'PVT', 'AD', 'CCVCL', 'PPW',\n",
       "       'AIVR', 'VFIB', 'VF', 'SQTS', 'SAB', 'AEC', 'BPAC', 'SAr', 'SPPB',\n",
       "       'PTW', 'JT', 'BS', 'AJR', 'SPRS', 'LAH'],\n",
       "      dtype='object')"
      ]
     },
     "execution_count": 17,
     "metadata": {},
     "output_type": "execute_result"
    }
   ],
   "source": [
    "labels"
   ]
  },
  {
   "cell_type": "markdown",
   "metadata": {},
   "source": [
    "# loader"
   ]
  },
  {
   "cell_type": "code",
   "execution_count": 18,
   "metadata": {},
   "outputs": [],
   "source": [
    "from torch.utils.data import Dataset"
   ]
  },
  {
   "cell_type": "code",
   "execution_count": 19,
   "metadata": {},
   "outputs": [],
   "source": [
    "class NINGBO():\n",
    "    def __init__(self, hdf5_path = '/home/josegfer/datasets/ningbo/ningbo.h5', \n",
    "                 metadata_path = '/home/josegfer/datasets/ningbo/metadata.csv', \n",
    "                 val_size = 0.1, tst_size = 0.05):\n",
    "        self.hdf5_file = h5py.File(hdf5_path, \"r\")\n",
    "        self.metadata = pd.read_csv(metadata_path)\n",
    "\n",
    "        self.val_size = val_size\n",
    "        self.tst_size = tst_size\n",
    "\n",
    "        trn_metadata, val_metadata, tst_metadata = self.split()\n",
    "        self.check_dataleakage(trn_metadata, val_metadata, tst_metadata)\n",
    "        \n",
    "        self.trn_idx_dict = self.get_idx_dict(trn_metadata)\n",
    "        self.val_idx_dict = self.get_idx_dict(val_metadata)\n",
    "        self.tst_idx_dict = self.get_idx_dict(tst_metadata)\n",
    "\n",
    "    def split(self, patient_id_col = 'exam_id'): # im assuming all pacient are unique for this dataset!\n",
    "        patient_ids = self.metadata[patient_id_col].unique()\n",
    "\n",
    "        num_trn = int(len(patient_ids) * (1 - self.tst_size - self.val_size))\n",
    "        num_val = int(len(patient_ids) * self.val_size)\n",
    "\n",
    "        trn_ids = set(patient_ids[:num_trn])\n",
    "        val_ids = set(patient_ids[num_trn : num_trn + num_val])\n",
    "        tst_ids = set(patient_ids[num_trn + num_val :])\n",
    "\n",
    "        trn_metadata = self.metadata.loc[self.metadata[patient_id_col].isin(trn_ids)]\n",
    "        val_metadata = self.metadata.loc[self.metadata[patient_id_col].isin(val_ids)]\n",
    "        tst_metadata = self.metadata.loc[self.metadata[patient_id_col].isin(tst_ids)]\n",
    "\n",
    "        return trn_metadata, val_metadata, tst_metadata\n",
    "    \n",
    "    def check_dataleakage(self, trn_metadata, val_metadata, tst_metadata, exam_id_col = 'exam_id'):\n",
    "        trn_ids = set(trn_metadata[exam_id_col].unique())\n",
    "        val_ids = set(val_metadata[exam_id_col].unique())\n",
    "        tst_ids = set(tst_metadata[exam_id_col].unique())\n",
    "        assert (len(trn_ids.intersection(val_ids)) == 0), \"Some IDs are present in both train and validation sets.\"\n",
    "        assert (len(trn_ids.intersection(tst_ids)) == 0), \"Some IDs are present in both train and test sets.\"\n",
    "        assert (len(val_ids.intersection(tst_ids)) == 0), \"Some IDs are present in both validation and test sets.\"\n",
    "\n",
    "    def get_idx_dict(self, split_metadata, exam_id_col = 'exam_id'):\n",
    "        split_exams, split_h5_idx, temp = np.intersect1d(self.hdf5_file[exam_id_col], split_metadata[exam_id_col].values, return_indices = True)\n",
    "        split_csv_idx = split_metadata.iloc[temp].index.values\n",
    "        split_idx_dict = {exam_id_col: split_exams, 'h5_idx': split_h5_idx, 'csv_idx': split_csv_idx}\n",
    "\n",
    "        print('checking exam_id consistency in idx dict')\n",
    "        for idx, exam_id in tqdm(enumerate(split_idx_dict[exam_id_col])):\n",
    "            assert self.hdf5_file[exam_id_col][split_idx_dict['h5_idx'][idx]] == exam_id\n",
    "            assert self.metadata[exam_id_col][split_idx_dict['csv_idx'][idx]] == exam_id\n",
    "        return split_idx_dict\n"
   ]
  },
  {
   "cell_type": "code",
   "execution_count": 20,
   "metadata": {},
   "outputs": [
    {
     "name": "stderr",
     "output_type": "stream",
     "text": [
      "800it [00:00, 7998.12it/s]"
     ]
    },
    {
     "name": "stdout",
     "output_type": "stream",
     "text": [
      "checking exam_id consistency in idx dict\n"
     ]
    },
    {
     "name": "stderr",
     "output_type": "stream",
     "text": [
      "38379it [00:04, 8184.15it/s]\n",
      "832it [00:00, 8318.40it/s]"
     ]
    },
    {
     "name": "stdout",
     "output_type": "stream",
     "text": [
      "checking exam_id consistency in idx dict\n"
     ]
    },
    {
     "name": "stderr",
     "output_type": "stream",
     "text": [
      "4515it [00:00, 8356.33it/s]\n",
      "1691it [00:00, 8449.95it/s]"
     ]
    },
    {
     "name": "stdout",
     "output_type": "stream",
     "text": [
      "checking exam_id consistency in idx dict\n"
     ]
    },
    {
     "name": "stderr",
     "output_type": "stream",
     "text": [
      "2258it [00:00, 8427.26it/s]\n"
     ]
    }
   ],
   "source": [
    "data = NINGBO()"
   ]
  },
  {
   "cell_type": "code",
   "execution_count": 21,
   "metadata": {},
   "outputs": [],
   "source": [
    "class NINGBOsplit(Dataset):\n",
    "    def __init__(self, database, split_idx_dict, \n",
    "                 tracing_col = 'tracings', exam_id_col = 'exam_id', output_col = ['LVH', 'STTC', 'TWC', 'TWO', 'SB', 'SR', 'ST', 'AF', 'SA']): # classes com min 5% de presença\n",
    "        self.database = database\n",
    "        self.split_idx_dict = split_idx_dict\n",
    "\n",
    "        self.tracing_col = tracing_col\n",
    "        self.exam_id_col = exam_id_col\n",
    "        self.output_col = output_col\n",
    "    \n",
    "    def __len__(self):\n",
    "        return len(self.split_idx_dict[self.exam_id_col])\n",
    "    \n",
    "    def __getitem__(self, idx):\n",
    "        return {'X': self.database.hdf5_file[self.tracing_col][self.split_idx_dict['h5_idx'][idx]], \n",
    "                'y': self.database.metadata[self.output_col].loc[self.split_idx_dict['csv_idx'][idx]].values}"
   ]
  },
  {
   "cell_type": "code",
   "execution_count": 22,
   "metadata": {},
   "outputs": [],
   "source": [
    "trn_ds = NINGBOsplit(data, data.trn_idx_dict)\n",
    "val_ds = NINGBOsplit(data, data.val_idx_dict)\n",
    "tst_ds = NINGBOsplit(data, data.tst_idx_dict)"
   ]
  },
  {
   "cell_type": "code",
   "execution_count": 23,
   "metadata": {},
   "outputs": [],
   "source": [
    "trn_loader = torch.utils.data.DataLoader(trn_ds, batch_size = 128,\n",
    "                                          shuffle = True, num_workers = 6)\n",
    "val_loader = torch.utils.data.DataLoader(val_ds, batch_size = 128,\n",
    "                                          shuffle = False, num_workers = 6)\n",
    "tst_loader = torch.utils.data.DataLoader(tst_ds, batch_size = 128,\n",
    "                                          shuffle = False, num_workers = 6)"
   ]
  },
  {
   "cell_type": "code",
   "execution_count": 24,
   "metadata": {},
   "outputs": [
    {
     "name": "stderr",
     "output_type": "stream",
     "text": [
      "  0%|          | 0/300 [00:11<?, ?it/s]\n"
     ]
    },
    {
     "data": {
      "text/plain": [
       "(torch.Size([128, 4096, 12]),\n",
       " tensor([[[-0.1132, -0.0728,  0.0403,  ...,  0.0883,  0.0266, -0.0437],\n",
       "          [-0.1198, -0.0734,  0.0464,  ...,  0.1023,  0.0331, -0.0485],\n",
       "          [-0.1009, -0.0574,  0.0435,  ...,  0.1139,  0.0421, -0.0518],\n",
       "          ...,\n",
       "          [ 0.0000,  0.0000,  0.0000,  ...,  0.0000,  0.0000,  0.0000],\n",
       "          [ 0.0000,  0.0000,  0.0000,  ...,  0.0000,  0.0000,  0.0000],\n",
       "          [ 0.0000,  0.0000,  0.0000,  ...,  0.0000,  0.0000,  0.0000]],\n",
       " \n",
       "         [[ 0.0529, -0.0522, -0.1051,  ..., -0.5798, -0.1218, -2.7423],\n",
       "          [ 0.0588, -0.0599, -0.1187,  ..., -0.6652, -0.1415, -3.1461],\n",
       "          [ 0.0592, -0.0570, -0.1163,  ..., -0.6333, -0.1316, -2.9960],\n",
       "          ...,\n",
       "          [ 0.0000,  0.0000,  0.0000,  ...,  0.0000,  0.0000,  0.0000],\n",
       "          [ 0.0000,  0.0000,  0.0000,  ...,  0.0000,  0.0000,  0.0000],\n",
       "          [ 0.0000,  0.0000,  0.0000,  ...,  0.0000,  0.0000,  0.0000]],\n",
       " \n",
       "         [[-0.0391, -0.1213, -0.0822,  ..., -0.1603, -0.1577, -0.0903],\n",
       "          [-0.0145, -0.0382, -0.0236,  ..., -0.1470, -0.1418, -0.0653],\n",
       "          [-0.0261,  0.0389,  0.0649,  ..., -0.0792, -0.0920, -0.0067],\n",
       "          ...,\n",
       "          [ 0.0000,  0.0000,  0.0000,  ...,  0.0000,  0.0000,  0.0000],\n",
       "          [ 0.0000,  0.0000,  0.0000,  ...,  0.0000,  0.0000,  0.0000],\n",
       "          [ 0.0000,  0.0000,  0.0000,  ...,  0.0000,  0.0000,  0.0000]],\n",
       " \n",
       "         ...,\n",
       " \n",
       "         [[-0.2965, -0.0795,  0.2170,  ...,  0.1818, -0.0452, -0.0811],\n",
       "          [-0.3477, -0.0786,  0.2690,  ...,  0.2165, -0.0424, -0.0850],\n",
       "          [-0.3060, -0.0805,  0.2255,  ...,  0.2225, -0.0118, -0.0648],\n",
       "          ...,\n",
       "          [ 0.0000,  0.0000,  0.0000,  ...,  0.0000,  0.0000,  0.0000],\n",
       "          [ 0.0000,  0.0000,  0.0000,  ...,  0.0000,  0.0000,  0.0000],\n",
       "          [ 0.0000,  0.0000,  0.0000,  ...,  0.0000,  0.0000,  0.0000]],\n",
       " \n",
       "         [[ 0.0298, -0.0447, -0.0745,  ..., -0.2143, -0.0751,  0.0981],\n",
       "          [ 0.0461, -0.0212, -0.0673,  ..., -0.1924, -0.0400,  0.1578],\n",
       "          [ 0.0154,  0.0034, -0.0120,  ..., -0.2066, -0.0466,  0.1363],\n",
       "          ...,\n",
       "          [ 0.0000,  0.0000,  0.0000,  ...,  0.0000,  0.0000,  0.0000],\n",
       "          [ 0.0000,  0.0000,  0.0000,  ...,  0.0000,  0.0000,  0.0000],\n",
       "          [ 0.0000,  0.0000,  0.0000,  ...,  0.0000,  0.0000,  0.0000]],\n",
       " \n",
       "         [[-0.0703, -0.0521,  0.0182,  ..., -0.2988, -0.8075, -0.2804],\n",
       "          [-0.0805, -0.0601,  0.0204,  ..., -0.3431, -0.9291, -0.3231],\n",
       "          [-0.0771, -0.0568,  0.0203,  ..., -0.3262, -0.8801, -0.3053],\n",
       "          ...,\n",
       "          [ 0.0000,  0.0000,  0.0000,  ...,  0.0000,  0.0000,  0.0000],\n",
       "          [ 0.0000,  0.0000,  0.0000,  ...,  0.0000,  0.0000,  0.0000],\n",
       "          [ 0.0000,  0.0000,  0.0000,  ...,  0.0000,  0.0000,  0.0000]]],\n",
       "        dtype=torch.float64),\n",
       " torch.Size([128, 9]),\n",
       " tensor([[False,  True,  True,  ..., False, False, False],\n",
       "         [False, False, False,  ..., False, False, False],\n",
       "         [False, False,  True,  ..., False,  True, False],\n",
       "         ...,\n",
       "         [False, False, False,  ..., False, False, False],\n",
       "         [False, False,  True,  ..., False,  True, False],\n",
       "         [ True, False, False,  ..., False, False, False]]))"
      ]
     },
     "execution_count": 24,
     "metadata": {},
     "output_type": "execute_result"
    }
   ],
   "source": [
    "for batch in tqdm(trn_loader):\n",
    "    break\n",
    "batch['X'].shape, batch['X'], batch['y'].shape, batch['y']"
   ]
  },
  {
   "cell_type": "code",
   "execution_count": 25,
   "metadata": {},
   "outputs": [
    {
     "name": "stderr",
     "output_type": "stream",
     "text": [
      "  0%|          | 0/36 [00:04<?, ?it/s]\n"
     ]
    },
    {
     "data": {
      "text/plain": [
       "(torch.Size([128, 4096, 12]),\n",
       " tensor([[[-0.0481, -0.1136, -0.0655,  ..., -0.3478, -0.3125, -0.2176],\n",
       "          [ 0.0366, -0.1081, -0.1447,  ..., -0.4081, -0.3735, -0.2817],\n",
       "          [-0.0390, -0.1161, -0.0771,  ..., -0.3404, -0.3262, -0.2443],\n",
       "          ...,\n",
       "          [ 0.0000,  0.0000,  0.0000,  ...,  0.0000,  0.0000,  0.0000],\n",
       "          [ 0.0000,  0.0000,  0.0000,  ...,  0.0000,  0.0000,  0.0000],\n",
       "          [ 0.0000,  0.0000,  0.0000,  ...,  0.0000,  0.0000,  0.0000]],\n",
       " \n",
       "         [[-0.1350, -0.2889, -0.1540,  ..., -0.5062, -0.7149, -0.5299],\n",
       "          [-0.2345, -0.3457, -0.1112,  ..., -0.6058, -0.9357, -0.6976],\n",
       "          [-0.1901, -0.0863,  0.1038,  ..., -0.4847, -0.8294, -0.5914],\n",
       "          ...,\n",
       "          [ 0.0000,  0.0000,  0.0000,  ...,  0.0000,  0.0000,  0.0000],\n",
       "          [ 0.0000,  0.0000,  0.0000,  ...,  0.0000,  0.0000,  0.0000],\n",
       "          [ 0.0000,  0.0000,  0.0000,  ...,  0.0000,  0.0000,  0.0000]],\n",
       " \n",
       "         [[-0.0681, -0.0858, -0.0176,  ..., -0.1629, -0.1869, -0.1714],\n",
       "          [-0.1577, -0.1789, -0.0211,  ..., -0.2196, -0.2412, -0.2175],\n",
       "          [-0.1996, -0.2125, -0.0129,  ..., -0.2164, -0.2313, -0.2008],\n",
       "          ...,\n",
       "          [ 0.0000,  0.0000,  0.0000,  ...,  0.0000,  0.0000,  0.0000],\n",
       "          [ 0.0000,  0.0000,  0.0000,  ...,  0.0000,  0.0000,  0.0000],\n",
       "          [ 0.0000,  0.0000,  0.0000,  ...,  0.0000,  0.0000,  0.0000]],\n",
       " \n",
       "         ...,\n",
       " \n",
       "         [[-0.0666, -0.0098,  0.0567,  ...,  0.2455,  0.0167, -0.0404],\n",
       "          [-0.0445,  0.0312,  0.0757,  ...,  0.2864,  0.0256, -0.0332],\n",
       "          [-0.0536,  0.0439,  0.0974,  ...,  0.2798,  0.0455, -0.0197],\n",
       "          ...,\n",
       "          [ 0.0000,  0.0000,  0.0000,  ...,  0.0000,  0.0000,  0.0000],\n",
       "          [ 0.0000,  0.0000,  0.0000,  ...,  0.0000,  0.0000,  0.0000],\n",
       "          [ 0.0000,  0.0000,  0.0000,  ...,  0.0000,  0.0000,  0.0000]],\n",
       " \n",
       "         [[-0.0514, -0.0662, -0.0147,  ..., -0.2308, -0.1956, -0.0334],\n",
       "          [-0.0734, -0.0896, -0.0161,  ..., -0.2285, -0.1897, -0.0976],\n",
       "          [-0.0555, -0.0626, -0.0071,  ..., -0.2004, -0.0882, -0.1017],\n",
       "          ...,\n",
       "          [ 0.0000,  0.0000,  0.0000,  ...,  0.0000,  0.0000,  0.0000],\n",
       "          [ 0.0000,  0.0000,  0.0000,  ...,  0.0000,  0.0000,  0.0000],\n",
       "          [ 0.0000,  0.0000,  0.0000,  ...,  0.0000,  0.0000,  0.0000]],\n",
       " \n",
       "         [[ 0.2881, -0.0502, -0.3383,  ...,  0.0000,  0.0000,  0.0000],\n",
       "          [ 0.3077, -0.0633, -0.3710,  ...,  0.0000,  0.0000,  0.0000],\n",
       "          [ 0.2950,  0.0650, -0.2300,  ...,  0.0000,  0.0000,  0.0000],\n",
       "          ...,\n",
       "          [ 0.0000,  0.0000,  0.0000,  ...,  0.0000,  0.0000,  0.0000],\n",
       "          [ 0.0000,  0.0000,  0.0000,  ...,  0.0000,  0.0000,  0.0000],\n",
       "          [ 0.0000,  0.0000,  0.0000,  ...,  0.0000,  0.0000,  0.0000]]],\n",
       "        dtype=torch.float64),\n",
       " torch.Size([128, 9]),\n",
       " tensor([[ True, False, False,  ..., False, False, False],\n",
       "         [ True, False, False,  ..., False, False, False],\n",
       "         [ True, False, False,  ..., False, False, False],\n",
       "         ...,\n",
       "         [False, False, False,  ..., False, False, False],\n",
       "         [False, False, False,  ..., False, False, False],\n",
       "         [False, False, False,  ..., False, False, False]]))"
      ]
     },
     "execution_count": 25,
     "metadata": {},
     "output_type": "execute_result"
    }
   ],
   "source": [
    "for batch in tqdm(val_loader):\n",
    "    break\n",
    "batch['X'].shape, batch['X'], batch['y'].shape, batch['y']"
   ]
  },
  {
   "cell_type": "code",
   "execution_count": 26,
   "metadata": {},
   "outputs": [
    {
     "name": "stderr",
     "output_type": "stream",
     "text": [
      "  0%|          | 0/18 [00:03<?, ?it/s]\n"
     ]
    },
    {
     "data": {
      "text/plain": [
       "(torch.Size([128, 4096, 12]),\n",
       " tensor([[[-0.3065, -0.1753,  0.1312,  ..., -1.6157, -1.1528, -0.8214],\n",
       "          [-0.3027, -0.1807,  0.1219,  ..., -1.7051, -1.2165, -0.9537],\n",
       "          [-0.2467, -0.2044,  0.0423,  ..., -1.4893, -1.0910, -0.7485],\n",
       "          ...,\n",
       "          [ 0.0000,  0.0000,  0.0000,  ...,  0.0000,  0.0000,  0.0000],\n",
       "          [ 0.0000,  0.0000,  0.0000,  ...,  0.0000,  0.0000,  0.0000],\n",
       "          [ 0.0000,  0.0000,  0.0000,  ...,  0.0000,  0.0000,  0.0000]],\n",
       " \n",
       "         [[-0.0694, -0.0877, -0.0183,  ..., -0.1580,  0.0705, -0.0704],\n",
       "          [-0.0820, -0.1021, -0.0201,  ..., -0.1825,  0.0803, -0.0803],\n",
       "          [-0.0741, -0.0948, -0.0207,  ..., -0.1714,  0.0775, -0.0771],\n",
       "          ...,\n",
       "          [ 0.0000,  0.0000,  0.0000,  ...,  0.0000,  0.0000,  0.0000],\n",
       "          [ 0.0000,  0.0000,  0.0000,  ...,  0.0000,  0.0000,  0.0000],\n",
       "          [ 0.0000,  0.0000,  0.0000,  ...,  0.0000,  0.0000,  0.0000]],\n",
       " \n",
       "         [[-0.5402, -0.0084,  0.5318,  ...,  0.1313, -0.2575, -0.1052],\n",
       "          [-0.6172,  0.0144,  0.6316,  ...,  0.1244, -0.3252, -0.1484],\n",
       "          [-0.5633,  0.0159,  0.5792,  ...,  0.1081, -0.3177, -0.1464],\n",
       "          ...,\n",
       "          [ 0.0000,  0.0000,  0.0000,  ...,  0.0000,  0.0000,  0.0000],\n",
       "          [ 0.0000,  0.0000,  0.0000,  ...,  0.0000,  0.0000,  0.0000],\n",
       "          [ 0.0000,  0.0000,  0.0000,  ...,  0.0000,  0.0000,  0.0000]],\n",
       " \n",
       "         ...,\n",
       " \n",
       "         [[-0.0185, -0.1937, -0.1752,  ...,  0.0174,  0.0174, -0.1062],\n",
       "          [-0.0199, -0.2194, -0.1995,  ...,  0.0216,  0.0216, -0.1220],\n",
       "          [-0.0214, -0.2138, -0.1924,  ...,  0.0177,  0.0176, -0.1159],\n",
       "          ...,\n",
       "          [ 0.0000,  0.0000,  0.0000,  ...,  0.0000,  0.0000,  0.0000],\n",
       "          [ 0.0000,  0.0000,  0.0000,  ...,  0.0000,  0.0000,  0.0000],\n",
       "          [ 0.0000,  0.0000,  0.0000,  ...,  0.0000,  0.0000,  0.0000]],\n",
       " \n",
       "         [[-0.0410, -0.7191, -0.6781,  ..., -0.9808, -0.6186, -0.7474],\n",
       "          [-0.0940, -0.8417, -0.7477,  ..., -1.0606, -0.6636, -0.8135],\n",
       "          [-0.0952, -0.7746, -0.6794,  ..., -0.9583, -0.6178, -0.7853],\n",
       "          ...,\n",
       "          [ 0.0000,  0.0000,  0.0000,  ...,  0.0000,  0.0000,  0.0000],\n",
       "          [ 0.0000,  0.0000,  0.0000,  ...,  0.0000,  0.0000,  0.0000],\n",
       "          [ 0.0000,  0.0000,  0.0000,  ...,  0.0000,  0.0000,  0.0000]],\n",
       " \n",
       "         [[-0.0185,  0.0621,  0.0806,  ..., -0.0790, -0.2612, -0.1908],\n",
       "          [-0.0197,  0.0554,  0.0751,  ..., -0.1311, -0.3340, -0.2528],\n",
       "          [-0.0244,  0.0491,  0.0735,  ..., -0.1442, -0.3501, -0.2531],\n",
       "          ...,\n",
       "          [ 0.0000,  0.0000,  0.0000,  ...,  0.0000,  0.0000,  0.0000],\n",
       "          [ 0.0000,  0.0000,  0.0000,  ...,  0.0000,  0.0000,  0.0000],\n",
       "          [ 0.0000,  0.0000,  0.0000,  ...,  0.0000,  0.0000,  0.0000]]],\n",
       "        dtype=torch.float64),\n",
       " torch.Size([128, 9]),\n",
       " tensor([[False, False, False,  ...,  True, False, False],\n",
       "         [False, False, False,  ...,  True, False, False],\n",
       "         [ True,  True, False,  ...,  True, False, False],\n",
       "         ...,\n",
       "         [False,  True, False,  ...,  True, False, False],\n",
       "         [False, False, False,  ...,  True, False, False],\n",
       "         [ True,  True, False,  ...,  True, False, False]]))"
      ]
     },
     "execution_count": 26,
     "metadata": {},
     "output_type": "execute_result"
    }
   ],
   "source": [
    "for batch in tqdm(tst_loader):\n",
    "    break\n",
    "batch['X'].shape, batch['X'], batch['y'].shape, batch['y']"
   ]
  },
  {
   "cell_type": "code",
   "execution_count": null,
   "metadata": {},
   "outputs": [],
   "source": []
  }
 ],
 "metadata": {
  "kernelspec": {
   "display_name": "clip",
   "language": "python",
   "name": "python3"
  },
  "language_info": {
   "codemirror_mode": {
    "name": "ipython",
    "version": 3
   },
   "file_extension": ".py",
   "mimetype": "text/x-python",
   "name": "python",
   "nbconvert_exporter": "python",
   "pygments_lexer": "ipython3",
   "version": "3.8.8"
  }
 },
 "nbformat": 4,
 "nbformat_minor": 2
}
